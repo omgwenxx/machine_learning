{
 "cells": [
  {
   "cell_type": "markdown",
   "metadata": {},
   "source": [
    "Template for ML Ex3 notebooks"
   ]
  },
  {
   "cell_type": "code",
   "execution_count": 1,
   "metadata": {},
   "outputs": [
    {
     "name": "stdout",
     "output_type": "stream",
     "text": [
      "Hello!\n"
     ]
    }
   ],
   "source": [
    "%run 'hello.py'"
   ]
  },
  {
   "cell_type": "code",
   "execution_count": 7,
   "metadata": {},
   "outputs": [
    {
     "name": "stdout",
     "output_type": "stream",
     "text": [
      "Done!\n"
     ]
    }
   ],
   "source": [
    "%run 'prepare.py' 6 4"
   ]
  },
  {
   "cell_type": "code",
   "execution_count": 3,
   "metadata": {},
   "outputs": [],
   "source": [
    "%load_ext autoreload\n",
    "%autoreload 1"
   ]
  },
  {
   "cell_type": "code",
   "execution_count": 4,
   "metadata": {},
   "outputs": [],
   "source": [
    "%aimport settings\n",
    "%aimport utils\n",
    "%aimport dataloaders\n",
    "%aimport networks"
   ]
  },
  {
   "cell_type": "code",
   "execution_count": null,
   "metadata": {},
   "outputs": [],
   "source": [
    "%run 'show_batches.py'"
   ]
  },
  {
   "cell_type": "code",
   "execution_count": 9,
   "metadata": {},
   "outputs": [
    {
     "name": "stdout",
     "output_type": "stream",
     "text": [
      "Constructing model\n",
      "Running model on cpu\n",
      "Epoch: 1/20..  Training Loss: 4.0573..  Validate Loss: 3.619..  Accuracy: 0.156\n",
      "Validation loss decreased (inf --> 0.361912). Saving model ...\n",
      "Recall 0.156\n",
      "Accuracy 0.156\n",
      "Precision 0.171\n",
      "f1 0.114\n",
      "f1 Beta 0.133\n",
      "\n",
      "Saving confusion matrix ...\n",
      "Epoch: 2/20..  Training Loss: 3.5737..  Validate Loss: 3.455..  Accuracy: 0.119\n",
      "Validation loss decreased (0.361912 --> 0.345458). Saving model ...\n",
      "Recall 0.119\n",
      "Accuracy 0.119\n",
      "Precision 0.097\n",
      "f1 0.076\n",
      "f1 Beta 0.083\n",
      "\n",
      "Saving confusion matrix ...\n",
      "Epoch: 3/20..  Training Loss: 3.3465..  Validate Loss: 3.017..  Accuracy: 0.200\n",
      "Validation loss decreased (0.345458 --> 0.301746). Saving model ...\n",
      "Recall 0.200\n",
      "Accuracy 0.200\n",
      "Precision 0.144\n",
      "f1 0.138\n",
      "f1 Beta 0.137\n",
      "\n",
      "Saving confusion matrix ...\n",
      "Epoch: 4/20..  Training Loss: 2.7423..  Validate Loss: 2.383..  Accuracy: 0.281\n",
      "Validation loss decreased (0.301746 --> 0.238298). Saving model ...\n",
      "Recall 0.281\n",
      "Accuracy 0.281\n",
      "Precision 0.288\n",
      "f1 0.219\n",
      "f1 Beta 0.242\n",
      "\n",
      "Saving confusion matrix ...\n",
      "Epoch: 5/20..  Training Loss: 1.9862..  Validate Loss: 1.559..  Accuracy: 0.669\n",
      "Validation loss decreased (0.238298 --> 0.155889). Saving model ...\n",
      "Recall 0.669\n",
      "Accuracy 0.669\n",
      "Precision 0.627\n",
      "f1 0.605\n",
      "f1 Beta 0.604\n",
      "\n",
      "Saving confusion matrix ...\n",
      "Epoch: 6/20..  Training Loss: 1.0168..  Validate Loss: 1.425..  Accuracy: 0.619\n",
      "Validation loss decreased (0.155889 --> 0.142474). Saving model ...\n",
      "Recall 0.619\n",
      "Accuracy 0.619\n",
      "Precision 0.648\n",
      "f1 0.579\n",
      "f1 Beta 0.604\n",
      "\n",
      "Saving confusion matrix ...\n",
      "Epoch: 7/20..  Training Loss: 0.6219..  Validate Loss: 0.294..  Accuracy: 0.938\n",
      "Validation loss decreased (0.142474 --> 0.029412). Saving model ...\n",
      "Recall 0.938\n",
      "Accuracy 0.938\n",
      "Precision 0.958\n",
      "f1 0.932\n",
      "f1 Beta 0.941\n",
      "\n",
      "Saving confusion matrix ...\n",
      "Epoch: 8/20..  Training Loss: 0.1235..  Validate Loss: 0.171..  Accuracy: 0.969\n",
      "Validation loss decreased (0.029412 --> 0.017128). Saving model ...\n",
      "Recall 0.969\n",
      "Accuracy 0.969\n",
      "Precision 0.975\n",
      "f1 0.968\n",
      "f1 Beta 0.971\n",
      "\n",
      "Saving confusion matrix ...\n",
      "Epoch: 9/20..  Training Loss: 0.0719..  Validate Loss: 0.135..  Accuracy: 0.962\n",
      "Validation loss decreased (0.017128 --> 0.013517). Saving model ...\n",
      "Recall 0.963\n",
      "Accuracy 0.963\n",
      "Precision 0.972\n",
      "f1 0.961\n",
      "f1 Beta 0.966\n",
      "\n",
      "Saving confusion matrix ...\n",
      "Epoch: 10/20..  Training Loss: 0.0116..  Validate Loss: 0.101..  Accuracy: 0.975\n",
      "Validation loss decreased (0.013517 --> 0.010118). Saving model ...\n",
      "Recall 0.975\n",
      "Accuracy 0.975\n",
      "Precision 0.980\n",
      "f1 0.975\n",
      "f1 Beta 0.977\n",
      "\n",
      "Saving confusion matrix ...\n",
      "Epoch: 11/20..  Training Loss: 0.0166..  Validate Loss: 0.128..  Accuracy: 0.962\n",
      "Epoch: 12/20..  Training Loss: 0.0126..  Validate Loss: 0.661..  Accuracy: 0.844\n",
      "Epoch: 13/20..  Training Loss: 0.0643..  Validate Loss: 0.121..  Accuracy: 0.975\n",
      "Epoch: 14/20..  Training Loss: 0.0074..  Validate Loss: 0.083..  Accuracy: 0.975\n",
      "Validation loss decreased (0.010118 --> 0.008257). Saving model ...\n",
      "Recall 0.975\n",
      "Accuracy 0.975\n",
      "Precision 0.980\n",
      "f1 0.975\n",
      "f1 Beta 0.977\n",
      "\n",
      "Saving confusion matrix ...\n",
      "Epoch: 15/20..  Training Loss: 0.0049..  Validate Loss: 0.078..  Accuracy: 0.981\n",
      "Validation loss decreased (0.008257 --> 0.007751). Saving model ...\n",
      "Recall 0.981\n",
      "Accuracy 0.981\n",
      "Precision 0.985\n",
      "f1 0.981\n",
      "f1 Beta 0.983\n",
      "\n",
      "Saving confusion matrix ...\n",
      "Epoch: 16/20..  Training Loss: 0.0029..  Validate Loss: 0.078..  Accuracy: 0.981\n",
      "Epoch: 17/20..  Training Loss: 0.0031..  Validate Loss: 0.082..  Accuracy: 0.981\n",
      "Epoch: 18/20..  Training Loss: 0.0057..  Validate Loss: 0.072..  Accuracy: 0.981\n",
      "Validation loss decreased (0.007751 --> 0.007163). Saving model ...\n",
      "Recall 0.981\n",
      "Accuracy 0.981\n",
      "Precision 0.985\n",
      "f1 0.981\n",
      "f1 Beta 0.983\n",
      "\n",
      "Saving confusion matrix ...\n",
      "Epoch: 19/20..  Training Loss: 0.0094..  Validate Loss: 0.069..  Accuracy: 0.981\n",
      "Validation loss decreased (0.007163 --> 0.006946). Saving model ...\n",
      "Recall 0.981\n",
      "Accuracy 0.981\n",
      "Precision 0.985\n",
      "f1 0.981\n",
      "f1 Beta 0.983\n",
      "\n",
      "Saving confusion matrix ...\n",
      "Epoch: 20/20..  Training Loss: 0.0021..  Validate Loss: 0.074..  Accuracy: 0.981\n"
     ]
    },
    {
     "data": {
      "image/png": "[encoded data removed]",
      "text/plain": [
       "<Figure size 432x288 with 1 Axes>"
      ]
     },
     "metadata": {
      "needs_background": "light"
     },
     "output_type": "display_data"
    },
    {
     "data": {
      "image/png": "[encoded data removed]",
      "text/plain": [
       "<Figure size 432x288 with 1 Axes>"
      ]
     },
     "metadata": {
      "needs_background": "light"
     },
     "output_type": "display_data"
    }
   ],
   "source": [
    "%run 'implement.py'"
   ]
  },
  {
   "cell_type": "code",
   "execution_count": null,
   "metadata": {},
   "outputs": [],
   "source": []
  }
 ],
 "metadata": {
  "kernelspec": {
   "display_name": "Python 3",
   "language": "python",
   "name": "python3"
  },
  "language_info": {
   "codemirror_mode": {
    "name": "ipython",
    "version": 3
   },
   "file_extension": ".py",
   "mimetype": "text/x-python",
   "name": "python",
   "nbconvert_exporter": "python",
   "pygments_lexer": "ipython3",
   "version": "3.7.4"
  }
 },
 "nbformat": 4,
 "nbformat_minor": 4
}
