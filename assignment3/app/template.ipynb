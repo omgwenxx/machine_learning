{
 "cells": [
  {
   "cell_type": "markdown",
   "metadata": {},
   "source": [
    "Template for ML Ex3 notebooks"
   ]
  },
  {
   "cell_type": "code",
   "execution_count": 1,
   "metadata": {},
   "outputs": [
    {
     "name": "stdout",
     "output_type": "stream",
     "text": [
      "Hello!\n"
     ]
    }
   ],
   "source": [
    "%run 'hello.py'"
   ]
  },
  {
   "cell_type": "code",
   "execution_count": 2,
   "metadata": {},
   "outputs": [
    {
     "name": "stdout",
     "output_type": "stream",
     "text": [
      "Done!\n"
     ]
    }
   ],
   "source": [
    "%run 'prepare.py' 7 3"
   ]
  },
  {
   "cell_type": "code",
   "execution_count": 3,
   "metadata": {},
   "outputs": [],
   "source": [
    "%load_ext autoreload\n",
    "%autoreload 1"
   ]
  },
  {
   "cell_type": "code",
   "execution_count": 4,
   "metadata": {},
   "outputs": [],
   "source": [
    "%aimport settings\n",
    "%aimport utils\n",
    "%aimport dataloaders\n",
    "%aimport networks"
   ]
  },
  {
   "cell_type": "code",
   "execution_count": null,
   "metadata": {},
   "outputs": [],
   "source": [
    "%run 'show_batches.py'"
   ]
  },
  {
   "cell_type": "code",
   "execution_count": 7,
   "metadata": {},
   "outputs": [
    {
     "name": "stdout",
     "output_type": "stream",
     "text": [
      "Constructing model\n",
      "Running model on cpu\n",
      "Epoch: 1/20..  Training Loss: 116754.6712..  Validate Loss: 231869.875..  Accuracy: 0.025\n",
      "Validation loss decreased (inf --> 23186.988281). Saving model ...\n",
      "Recall 0.025\n",
      "Accuracy 0.025\n",
      "Precision 0.001\n",
      "f1 0.001\n",
      "f1 Beta 0.001\n",
      "\n",
      "Saving confusion matrix ...\n",
      "Epoch: 2/20..  Training Loss: 145294.6720..  Validate Loss: 120119.727..  Accuracy: 0.117\n",
      "Validation loss decreased (23186.988281 --> 12011.972656). Saving model ...\n",
      "Recall 0.117\n",
      "Accuracy 0.117\n",
      "Precision 0.089\n",
      "f1 0.068\n",
      "f1 Beta 0.075\n",
      "\n",
      "Saving confusion matrix ...\n",
      "Epoch: 3/20..  Training Loss: 85864.2188..  Validate Loss: 79585.227..  Accuracy: 0.142\n",
      "Validation loss decreased (12011.972656 --> 7958.522461). Saving model ...\n",
      "Recall 0.142\n",
      "Accuracy 0.142\n",
      "Precision 0.097\n",
      "f1 0.094\n",
      "f1 Beta 0.094\n",
      "\n",
      "Saving confusion matrix ...\n",
      "Epoch: 4/20..  Training Loss: 64951.2908..  Validate Loss: 76689.078..  Accuracy: 0.075\n",
      "Validation loss decreased (7958.522461 --> 7668.907715). Saving model ...\n",
      "Recall 0.075\n",
      "Accuracy 0.075\n",
      "Precision 0.033\n",
      "f1 0.026\n",
      "f1 Beta 0.028\n",
      "\n",
      "Saving confusion matrix ...\n",
      "Epoch: 5/20..  Training Loss: 50262.9418..  Validate Loss: 27349.506..  Accuracy: 0.433\n",
      "Validation loss decreased (7668.907715 --> 2734.950439). Saving model ...\n",
      "Recall 0.433\n",
      "Accuracy 0.433\n",
      "Precision 0.362\n",
      "f1 0.350\n",
      "f1 Beta 0.348\n",
      "\n",
      "Saving confusion matrix ...\n",
      "Epoch: 6/20..  Training Loss: 28112.7731..  Validate Loss: 24491.814..  Accuracy: 0.408\n",
      "Validation loss decreased (2734.950439 --> 2449.181396). Saving model ...\n",
      "Recall 0.408\n",
      "Accuracy 0.408\n",
      "Precision 0.428\n",
      "f1 0.368\n",
      "f1 Beta 0.392\n",
      "\n",
      "Saving confusion matrix ...\n",
      "Epoch: 7/20..  Training Loss: 24960.9888..  Validate Loss: 34743.086..  Accuracy: 0.242\n",
      "Epoch: 8/20..  Training Loss: 22513.0437..  Validate Loss: 46209.098..  Accuracy: 0.258\n",
      "Epoch: 9/20..  Training Loss: 18797.3322..  Validate Loss: 4226.224..  Accuracy: 0.675\n",
      "Validation loss decreased (2449.181396 --> 422.622375). Saving model ...\n",
      "Recall 0.675\n",
      "Accuracy 0.675\n",
      "Precision 0.729\n",
      "f1 0.658\n",
      "f1 Beta 0.686\n",
      "\n",
      "Saving confusion matrix ...\n",
      "Epoch: 10/20..  Training Loss: 11981.7166..  Validate Loss: 6795.521..  Accuracy: 0.642\n",
      "Epoch: 11/20..  Training Loss: 5062.2051..  Validate Loss: 4063.868..  Accuracy: 0.750\n",
      "Validation loss decreased (422.622375 --> 406.386780). Saving model ...\n",
      "Recall 0.750\n",
      "Accuracy 0.750\n",
      "Precision 0.770\n",
      "f1 0.717\n",
      "f1 Beta 0.736\n",
      "\n",
      "Saving confusion matrix ...\n",
      "Epoch: 12/20..  Training Loss: 3415.4240..  Validate Loss: 8102.828..  Accuracy: 0.625\n",
      "Epoch: 13/20..  Training Loss: 2493.0576..  Validate Loss: 3765.325..  Accuracy: 0.783\n",
      "Validation loss decreased (406.386780 --> 376.532501). Saving model ...\n",
      "Recall 0.783\n",
      "Accuracy 0.783\n",
      "Precision 0.877\n",
      "f1 0.792\n",
      "f1 Beta 0.830\n",
      "\n",
      "Saving confusion matrix ...\n",
      "Epoch: 14/20..  Training Loss: 2126.2284..  Validate Loss: 2265.082..  Accuracy: 0.842\n",
      "Validation loss decreased (376.532501 --> 226.508209). Saving model ...\n",
      "Recall 0.842\n",
      "Accuracy 0.842\n",
      "Precision 0.839\n",
      "f1 0.815\n",
      "f1 Beta 0.821\n",
      "\n",
      "Saving confusion matrix ...\n",
      "Epoch: 15/20..  Training Loss: 865.0317..  Validate Loss: 2116.578..  Accuracy: 0.775\n",
      "Validation loss decreased (226.508209 --> 211.657791). Saving model ...\n",
      "Recall 0.775\n",
      "Accuracy 0.775\n",
      "Precision 0.823\n",
      "f1 0.766\n",
      "f1 Beta 0.789\n",
      "\n",
      "Saving confusion matrix ...\n",
      "Epoch: 16/20..  Training Loss: 813.6896..  Validate Loss: 2486.554..  Accuracy: 0.792\n",
      "Epoch: 17/20..  Training Loss: 714.2012..  Validate Loss: 3781.339..  Accuracy: 0.767\n",
      "Epoch: 18/20..  Training Loss: 1501.5792..  Validate Loss: 15191.281..  Accuracy: 0.442\n",
      "Epoch: 19/20..  Training Loss: 2840.8713..  Validate Loss: 1241.583..  Accuracy: 0.850\n",
      "Validation loss decreased (211.657791 --> 124.158302). Saving model ...\n",
      "Recall 0.850\n",
      "Accuracy 0.850\n",
      "Precision 0.866\n",
      "f1 0.829\n",
      "f1 Beta 0.841\n",
      "\n",
      "Saving confusion matrix ...\n",
      "Epoch: 20/20..  Training Loss: 125.4506..  Validate Loss: 1429.694..  Accuracy: 0.833\n"
     ]
    },
    {
     "data": {
      "image/png": "[encoded data removed]",
      "text/plain": [
       "<Figure size 432x288 with 1 Axes>"
      ]
     },
     "metadata": {
      "needs_background": "light"
     },
     "output_type": "display_data"
    },
    {
     "data": {
      "image/png": "[encoded data removed]",
      "text/plain": [
       "<Figure size 432x288 with 1 Axes>"
      ]
     },
     "metadata": {
      "needs_background": "light"
     },
     "output_type": "display_data"
    }
   ],
   "source": [
    "%run 'implement.py'"
   ]
  },
  {
   "cell_type": "code",
   "execution_count": null,
   "metadata": {},
   "outputs": [],
   "source": []
  }
 ],
 "metadata": {
  "kernelspec": {
   "display_name": "Python 3",
   "language": "python",
   "name": "python3"
  },
  "language_info": {
   "codemirror_mode": {
    "name": "ipython",
    "version": 3
   },
   "file_extension": ".py",
   "mimetype": "text/x-python",
   "name": "python",
   "nbconvert_exporter": "python",
   "pygments_lexer": "ipython3",
   "version": "3.8.3"
  }
 },
 "nbformat": 4,
 "nbformat_minor": 4
}
