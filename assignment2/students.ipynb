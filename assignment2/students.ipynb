{
  "cells": [
    {
      "cell_type": "markdown",
      "metadata": {
        "collapsed": true,
        "pycharm": {
          "name": "#%% md\n"
        }
      },
      "source": "# Students Performance\nDataset used: [Student Performance Data Set](https://archive.ics.uci.edu/ml/datasets/Student+Performance)\n\nTarget Variable:\n- Wage: integer, in thousand €, not null\n\n"
    },
    {
      "cell_type": "code",
      "execution_count": null,
      "outputs": [],
      "source": "import matplotlib.pyplot as plt\nimport pandas as pd\nimport seaborn as sns\n",
      "metadata": {
        "pycharm": {
          "metadata": false,
          "name": "#%%\n"
        }
      }
    },
    {
      "cell_type": "code",
      "execution_count": null,
      "outputs": [],
      "source": "# Read data from file\ndf \u003d pd.read_csv(\"../data/fifa/fifa19.csv\")\npd.set_option(\u0027display.max_columns\u0027, 500)\npd.set_option(\u0027display.max_rows\u0027, 500)\ndf.head()",
      "metadata": {
        "pycharm": {
          "metadata": false,
          "name": "#%%\n"
        }
      }
    },
    {
      "cell_type": "code",
      "execution_count": null,
      "outputs": [],
      "source": "# show attributes, types and number of entries\ndf.info()",
      "metadata": {
        "pycharm": {
          "metadata": false,
          "name": "#%%\n"
        }
      }
    }
  ],
  "metadata": {
    "language_info": {
      "codemirror_mode": {
        "name": "ipython",
        "version": 2
      },
      "file_extension": ".py",
      "mimetype": "text/x-python",
      "name": "python",
      "nbconvert_exporter": "python",
      "pygments_lexer": "ipython2",
      "version": "2.7.6"
    },
    "kernelspec": {
      "name": "pycharm-d5087642",
      "language": "python",
      "display_name": "PyCharm (machine_learning)"
    }
  },
  "nbformat": 4,
  "nbformat_minor": 0
}