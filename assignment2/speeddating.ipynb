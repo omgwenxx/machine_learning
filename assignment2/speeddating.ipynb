{
 "cells": [
  {
   "cell_type": "code",
   "execution_count": 49,
   "metadata": {},
   "outputs": [],
   "source": [
    "# import all the libraries\n",
    "import pandas as pd\n",
    "import numpy as np\n",
    "import matplotlib.pyplot as plt\n",
    "import scikitplot as skplt\n",
    "\n",
    "from sklearn.neighbors import KNeighborsClassifier\n",
    "from sklearn.ensemble import RandomForestClassifier\n",
    "from sklearn.svm import LinearSVC\n",
    "\n",
    "from sklearn.preprocessing import MinMaxScaler\n",
    "from sklearn.preprocessing import StandardScaler\n",
    "from sklearn.preprocessing import RobustScaler\n",
    "from sklearn.preprocessing import Normalizer\n",
    "from sklearn.model_selection import train_test_split\n",
    "from sklearn.model_selection import GridSearchCV\n",
    "import sklearn.metrics as metrics"
   ]
  },
  {
   "cell_type": "code",
   "execution_count": 81,
   "metadata": {},
   "outputs": [],
   "source": [
    "DATASET = 'cat'\n",
    "\n",
    "SCALING = True\n",
    "\n",
    "GRIDSEARCH = False"
   ]
  },
  {
   "cell_type": "code",
   "execution_count": 4,
   "metadata": {},
   "outputs": [],
   "source": [
    "if DATASET == 'cat':\n",
    "    df = pd.read_csv(\"../data/speeddating/speeddating_cat.csv\")\n",
    "else:\n",
    "    \n",
    "    df = pd.read_csv(\"../data/speeddating/speeddating_num.csv\")\n",
    "\n",
    "train, test = train_test_split(df, test_size=0.2, random_state=44)\n",
    "\n",
    "X_train = train.drop(['match'], axis=1)\n",
    "y_train = train['match']\n",
    "X_test = test.drop(['match'], axis=1)\n",
    "y_test = test['match']"
   ]
  },
  {
   "cell_type": "code",
   "execution_count": 43,
   "metadata": {},
   "outputs": [
    {
     "data": {
      "text/html": [
       "<div>\n",
       "<style scoped>\n",
       "    .dataframe tbody tr th:only-of-type {\n",
       "        vertical-align: middle;\n",
       "    }\n",
       "\n",
       "    .dataframe tbody tr th {\n",
       "        vertical-align: top;\n",
       "    }\n",
       "\n",
       "    .dataframe thead th {\n",
       "        text-align: right;\n",
       "    }\n",
       "</style>\n",
       "<table border=\"1\" class=\"dataframe\">\n",
       "  <thead>\n",
       "    <tr style=\"text-align: right;\">\n",
       "      <th></th>\n",
       "      <th>wave</th>\n",
       "      <th>d_d_age</th>\n",
       "      <th>samerace</th>\n",
       "      <th>d_importance_same_race</th>\n",
       "      <th>d_importance_same_religion</th>\n",
       "      <th>d_pref_o_attractive</th>\n",
       "      <th>d_pref_o_sincere</th>\n",
       "      <th>d_pref_o_intelligence</th>\n",
       "      <th>d_pref_o_funny</th>\n",
       "      <th>d_pref_o_ambitious</th>\n",
       "      <th>...</th>\n",
       "      <th>race_european/caucasian-american</th>\n",
       "      <th>race_latino/hispanic american</th>\n",
       "      <th>race_other</th>\n",
       "      <th>race_o_asian/pacific islander/asian-american</th>\n",
       "      <th>race_o_black/african american</th>\n",
       "      <th>race_o_european/caucasian-american</th>\n",
       "      <th>race_o_latino/hispanic american</th>\n",
       "      <th>race_o_other</th>\n",
       "      <th>gender_female</th>\n",
       "      <th>gender_male</th>\n",
       "    </tr>\n",
       "  </thead>\n",
       "  <tbody>\n",
       "    <tr>\n",
       "      <th>count</th>\n",
       "      <td>7849.000000</td>\n",
       "      <td>7849.000000</td>\n",
       "      <td>7849.000000</td>\n",
       "      <td>7849.000000</td>\n",
       "      <td>7849.000000</td>\n",
       "      <td>7849.000000</td>\n",
       "      <td>7849.000000</td>\n",
       "      <td>7849.000000</td>\n",
       "      <td>7849.000000</td>\n",
       "      <td>7849.000000</td>\n",
       "      <td>...</td>\n",
       "      <td>7849.000000</td>\n",
       "      <td>7849.000000</td>\n",
       "      <td>7849.000000</td>\n",
       "      <td>7849.000000</td>\n",
       "      <td>7849.000000</td>\n",
       "      <td>7849.000000</td>\n",
       "      <td>7849.000000</td>\n",
       "      <td>7849.000000</td>\n",
       "      <td>7849.000000</td>\n",
       "      <td>7849.000000</td>\n",
       "    </tr>\n",
       "    <tr>\n",
       "      <th>mean</th>\n",
       "      <td>11.324118</td>\n",
       "      <td>1.321697</td>\n",
       "      <td>0.404892</td>\n",
       "      <td>0.948401</td>\n",
       "      <td>0.909925</td>\n",
       "      <td>1.064849</td>\n",
       "      <td>0.828004</td>\n",
       "      <td>1.128551</td>\n",
       "      <td>0.785196</td>\n",
       "      <td>0.220283</td>\n",
       "      <td>...</td>\n",
       "      <td>0.568353</td>\n",
       "      <td>0.079501</td>\n",
       "      <td>0.064212</td>\n",
       "      <td>0.240031</td>\n",
       "      <td>0.048796</td>\n",
       "      <td>0.566696</td>\n",
       "      <td>0.080647</td>\n",
       "      <td>0.063830</td>\n",
       "      <td>0.499809</td>\n",
       "      <td>0.500191</td>\n",
       "    </tr>\n",
       "    <tr>\n",
       "      <th>std</th>\n",
       "      <td>5.975309</td>\n",
       "      <td>1.034984</td>\n",
       "      <td>0.490902</td>\n",
       "      <td>0.790658</td>\n",
       "      <td>0.793009</td>\n",
       "      <td>0.803756</td>\n",
       "      <td>0.712296</td>\n",
       "      <td>0.684704</td>\n",
       "      <td>0.698389</td>\n",
       "      <td>0.440688</td>\n",
       "      <td>...</td>\n",
       "      <td>0.495337</td>\n",
       "      <td>0.270536</td>\n",
       "      <td>0.245146</td>\n",
       "      <td>0.427129</td>\n",
       "      <td>0.215455</td>\n",
       "      <td>0.495563</td>\n",
       "      <td>0.272310</td>\n",
       "      <td>0.244465</td>\n",
       "      <td>0.500032</td>\n",
       "      <td>0.500032</td>\n",
       "    </tr>\n",
       "    <tr>\n",
       "      <th>min</th>\n",
       "      <td>1.000000</td>\n",
       "      <td>0.000000</td>\n",
       "      <td>0.000000</td>\n",
       "      <td>0.000000</td>\n",
       "      <td>0.000000</td>\n",
       "      <td>0.000000</td>\n",
       "      <td>0.000000</td>\n",
       "      <td>0.000000</td>\n",
       "      <td>0.000000</td>\n",
       "      <td>0.000000</td>\n",
       "      <td>...</td>\n",
       "      <td>0.000000</td>\n",
       "      <td>0.000000</td>\n",
       "      <td>0.000000</td>\n",
       "      <td>0.000000</td>\n",
       "      <td>0.000000</td>\n",
       "      <td>0.000000</td>\n",
       "      <td>0.000000</td>\n",
       "      <td>0.000000</td>\n",
       "      <td>0.000000</td>\n",
       "      <td>0.000000</td>\n",
       "    </tr>\n",
       "    <tr>\n",
       "      <th>25%</th>\n",
       "      <td>7.000000</td>\n",
       "      <td>0.000000</td>\n",
       "      <td>0.000000</td>\n",
       "      <td>0.000000</td>\n",
       "      <td>0.000000</td>\n",
       "      <td>0.000000</td>\n",
       "      <td>0.000000</td>\n",
       "      <td>1.000000</td>\n",
       "      <td>0.000000</td>\n",
       "      <td>0.000000</td>\n",
       "      <td>...</td>\n",
       "      <td>0.000000</td>\n",
       "      <td>0.000000</td>\n",
       "      <td>0.000000</td>\n",
       "      <td>0.000000</td>\n",
       "      <td>0.000000</td>\n",
       "      <td>0.000000</td>\n",
       "      <td>0.000000</td>\n",
       "      <td>0.000000</td>\n",
       "      <td>0.000000</td>\n",
       "      <td>0.000000</td>\n",
       "    </tr>\n",
       "    <tr>\n",
       "      <th>50%</th>\n",
       "      <td>11.000000</td>\n",
       "      <td>1.000000</td>\n",
       "      <td>0.000000</td>\n",
       "      <td>1.000000</td>\n",
       "      <td>1.000000</td>\n",
       "      <td>1.000000</td>\n",
       "      <td>1.000000</td>\n",
       "      <td>1.000000</td>\n",
       "      <td>1.000000</td>\n",
       "      <td>0.000000</td>\n",
       "      <td>...</td>\n",
       "      <td>1.000000</td>\n",
       "      <td>0.000000</td>\n",
       "      <td>0.000000</td>\n",
       "      <td>0.000000</td>\n",
       "      <td>0.000000</td>\n",
       "      <td>1.000000</td>\n",
       "      <td>0.000000</td>\n",
       "      <td>0.000000</td>\n",
       "      <td>0.000000</td>\n",
       "      <td>1.000000</td>\n",
       "    </tr>\n",
       "    <tr>\n",
       "      <th>75%</th>\n",
       "      <td>15.000000</td>\n",
       "      <td>2.000000</td>\n",
       "      <td>1.000000</td>\n",
       "      <td>2.000000</td>\n",
       "      <td>2.000000</td>\n",
       "      <td>2.000000</td>\n",
       "      <td>1.000000</td>\n",
       "      <td>2.000000</td>\n",
       "      <td>1.000000</td>\n",
       "      <td>0.000000</td>\n",
       "      <td>...</td>\n",
       "      <td>1.000000</td>\n",
       "      <td>0.000000</td>\n",
       "      <td>0.000000</td>\n",
       "      <td>0.000000</td>\n",
       "      <td>0.000000</td>\n",
       "      <td>1.000000</td>\n",
       "      <td>0.000000</td>\n",
       "      <td>0.000000</td>\n",
       "      <td>1.000000</td>\n",
       "      <td>1.000000</td>\n",
       "    </tr>\n",
       "    <tr>\n",
       "      <th>max</th>\n",
       "      <td>21.000000</td>\n",
       "      <td>3.000000</td>\n",
       "      <td>1.000000</td>\n",
       "      <td>2.000000</td>\n",
       "      <td>2.000000</td>\n",
       "      <td>2.000000</td>\n",
       "      <td>2.000000</td>\n",
       "      <td>2.000000</td>\n",
       "      <td>2.000000</td>\n",
       "      <td>2.000000</td>\n",
       "      <td>...</td>\n",
       "      <td>1.000000</td>\n",
       "      <td>1.000000</td>\n",
       "      <td>1.000000</td>\n",
       "      <td>1.000000</td>\n",
       "      <td>1.000000</td>\n",
       "      <td>1.000000</td>\n",
       "      <td>1.000000</td>\n",
       "      <td>1.000000</td>\n",
       "      <td>1.000000</td>\n",
       "      <td>1.000000</td>\n",
       "    </tr>\n",
       "  </tbody>\n",
       "</table>\n",
       "<p>8 rows × 162 columns</p>\n",
       "</div>"
      ],
      "text/plain": [
       "              wave      d_d_age     samerace  d_importance_same_race  \\\n",
       "count  7849.000000  7849.000000  7849.000000             7849.000000   \n",
       "mean     11.324118     1.321697     0.404892                0.948401   \n",
       "std       5.975309     1.034984     0.490902                0.790658   \n",
       "min       1.000000     0.000000     0.000000                0.000000   \n",
       "25%       7.000000     0.000000     0.000000                0.000000   \n",
       "50%      11.000000     1.000000     0.000000                1.000000   \n",
       "75%      15.000000     2.000000     1.000000                2.000000   \n",
       "max      21.000000     3.000000     1.000000                2.000000   \n",
       "\n",
       "       d_importance_same_religion  d_pref_o_attractive  d_pref_o_sincere  \\\n",
       "count                 7849.000000          7849.000000       7849.000000   \n",
       "mean                     0.909925             1.064849          0.828004   \n",
       "std                      0.793009             0.803756          0.712296   \n",
       "min                      0.000000             0.000000          0.000000   \n",
       "25%                      0.000000             0.000000          0.000000   \n",
       "50%                      1.000000             1.000000          1.000000   \n",
       "75%                      2.000000             2.000000          1.000000   \n",
       "max                      2.000000             2.000000          2.000000   \n",
       "\n",
       "       d_pref_o_intelligence  d_pref_o_funny  d_pref_o_ambitious  ...  \\\n",
       "count            7849.000000     7849.000000         7849.000000  ...   \n",
       "mean                1.128551        0.785196            0.220283  ...   \n",
       "std                 0.684704        0.698389            0.440688  ...   \n",
       "min                 0.000000        0.000000            0.000000  ...   \n",
       "25%                 1.000000        0.000000            0.000000  ...   \n",
       "50%                 1.000000        1.000000            0.000000  ...   \n",
       "75%                 2.000000        1.000000            0.000000  ...   \n",
       "max                 2.000000        2.000000            2.000000  ...   \n",
       "\n",
       "       race_european/caucasian-american  race_latino/hispanic american  \\\n",
       "count                       7849.000000                    7849.000000   \n",
       "mean                           0.568353                       0.079501   \n",
       "std                            0.495337                       0.270536   \n",
       "min                            0.000000                       0.000000   \n",
       "25%                            0.000000                       0.000000   \n",
       "50%                            1.000000                       0.000000   \n",
       "75%                            1.000000                       0.000000   \n",
       "max                            1.000000                       1.000000   \n",
       "\n",
       "        race_other  race_o_asian/pacific islander/asian-american  \\\n",
       "count  7849.000000                                   7849.000000   \n",
       "mean      0.064212                                      0.240031   \n",
       "std       0.245146                                      0.427129   \n",
       "min       0.000000                                      0.000000   \n",
       "25%       0.000000                                      0.000000   \n",
       "50%       0.000000                                      0.000000   \n",
       "75%       0.000000                                      0.000000   \n",
       "max       1.000000                                      1.000000   \n",
       "\n",
       "       race_o_black/african american  race_o_european/caucasian-american  \\\n",
       "count                    7849.000000                         7849.000000   \n",
       "mean                        0.048796                            0.566696   \n",
       "std                         0.215455                            0.495563   \n",
       "min                         0.000000                            0.000000   \n",
       "25%                         0.000000                            0.000000   \n",
       "50%                         0.000000                            1.000000   \n",
       "75%                         0.000000                            1.000000   \n",
       "max                         1.000000                            1.000000   \n",
       "\n",
       "       race_o_latino/hispanic american  race_o_other  gender_female  \\\n",
       "count                      7849.000000   7849.000000    7849.000000   \n",
       "mean                          0.080647      0.063830       0.499809   \n",
       "std                           0.272310      0.244465       0.500032   \n",
       "min                           0.000000      0.000000       0.000000   \n",
       "25%                           0.000000      0.000000       0.000000   \n",
       "50%                           0.000000      0.000000       0.000000   \n",
       "75%                           0.000000      0.000000       1.000000   \n",
       "max                           1.000000      1.000000       1.000000   \n",
       "\n",
       "       gender_male  \n",
       "count  7849.000000  \n",
       "mean      0.500191  \n",
       "std       0.500032  \n",
       "min       0.000000  \n",
       "25%       0.000000  \n",
       "50%       1.000000  \n",
       "75%       1.000000  \n",
       "max       1.000000  \n",
       "\n",
       "[8 rows x 162 columns]"
      ]
     },
     "execution_count": 43,
     "metadata": {},
     "output_type": "execute_result"
    }
   ],
   "source": [
    "df.describe()#.to_csv('descr.csv', index=False)"
   ]
  },
  {
   "cell_type": "code",
   "execution_count": 44,
   "metadata": {},
   "outputs": [],
   "source": [
    "if SCALING:\n",
    "    scaler = MinMaxScaler()\n",
    "    X_train = scaler.fit_transform(X_train)\n",
    "    X_test = scaler.transform(X_test)"
   ]
  },
  {
   "cell_type": "markdown",
   "metadata": {},
   "source": [
    "#### Define Hyperparameters to test"
   ]
  },
  {
   "cell_type": "code",
   "execution_count": 45,
   "metadata": {},
   "outputs": [],
   "source": [
    "# knn\n",
    "n_neighbour = np.arange(9, 21, 2) \n",
    "weights = ['uniform', 'distance']\n",
    "\n",
    "# svc\n",
    "svc_kernel = ['linear', 'poly', 'rbf', 'sigmoid']\n",
    "\n",
    "# trees\n",
    "tree_max_depth = [6, 9, 12, 15]\n",
    "tree_min_split = [3, 6, 9, 12]\n",
    "forest_n_estimators = np.arange(15, 30)\n",
    "forest_max_depth = np.arange(15, 30)\n",
    "forest_min_split = np.arange(15, 30)"
   ]
  },
  {
   "cell_type": "markdown",
   "metadata": {},
   "source": [
    "### scores"
   ]
  },
  {
   "cell_type": "code",
   "execution_count": 84,
   "metadata": {},
   "outputs": [],
   "source": [
    "# Scores: MSE, RMSE, R2\n",
    "def print_performance(y_test, y_pred):\n",
    "    # Mean Squared Error\n",
    "    print(\"MSE: \", metrics.mean_squared_error(y_test,y_pred))\n",
    "    \n",
    "    print(\"RMSE: \", np.sqrt(metrics.mean_squared_error(y_test,y_pred)))\n",
    "    \n",
    "    # R2 is between 0 and 100 percent\n",
    "    # 0 indicates that the model explains none of the variability of the response data around its mean.\n",
    "    # 100 indicates that the model explains all the variability of the response data around its mean.\n",
    "    print(\"R2: \", metrics.r2_score(y_test,y_pred) * 100)\n",
    "\n",
    "# Metrics: various fancy metrics\n",
    "def print_metrics(y_test, y_pred):\n",
    "    results = pd.DataFrame(list(zip(y_test, y_pred)), \n",
    "                   columns =['Wage_test', 'Wage_prediction']) \n",
    "    \n",
    "    accuracy = results[\"Wage_test\"] - results[\"Wage_prediction\"]\n",
    "    accuracy = np.square(accuracy)\n",
    "    accuracy = np.sqrt(accuracy)\n",
    "    \n",
    "    print(\"# compare test and prediction\")\n",
    "    print(results)\n",
    "    \n",
    "    print(\"# bad predictions (over 100 difference)\")\n",
    "    print(results[(results[\"Wage_test\"] - results[\"Wage_prediction\"]) > 5])\n",
    "    \n",
    "    print(\"# span of data\")\n",
    "    span = results[\"Wage_test\"].max() - results[\"Wage_test\"].min()\n",
    "    print(span)\n",
    "    \n",
    "    print(\"# median accuracy\")\n",
    "    median = np.median(accuracy) \n",
    "    print(median)\n",
    "    \n",
    "    print(\"# percent deviation\")\n",
    "    percent = median / span * 100\n",
    "    percent_str = \"{:.4f}\".format(percent)\n",
    "    percent_str = percent_str + \" %\"\n",
    "    print(percent_str)\n",
    "    \n",
    "def show_roc(y_test, y_pred):\n",
    "    fpr, tpr, threshold = metrics.roc_curve(y_test, y_pred)\n",
    "    roc_auc = metrics.auc(fpr, tpr)\n",
    "\n",
    "    plt.title('Receiver Operating Characteristic')\n",
    "    plt.plot(fpr, tpr, 'b', label = 'AUC = %0.2f' % roc_auc)\n",
    "    plt.legend(loc = 'lower right')\n",
    "    plt.plot([0, 1], [0, 1],'r--')\n",
    "    plt.xlim([0, 1])\n",
    "    plt.ylim([0, 1])\n",
    "    plt.ylabel('True Positive Rate')\n",
    "    plt.xlabel('False Positive Rate')\n",
    "    plt.show()"
   ]
  },
  {
   "cell_type": "markdown",
   "metadata": {},
   "source": [
    "#### KNN"
   ]
  },
  {
   "cell_type": "code",
   "execution_count": 47,
   "metadata": {},
   "outputs": [],
   "source": [
    "def knn_grid(X_train, y_train, X_test):\n",
    "    print('KNN')\n",
    "    grid = GridSearchCV(estimator=KNeighborsClassifier(),\n",
    "                 param_grid={'n_neighbors': n_neighbour,\n",
    "                            'weights': weights})\n",
    "    grid.fit(X_train, y_train)\n",
    "    print(grid.best_params_)\n",
    "    return grid.predict(X_test)\n",
    "\n",
    "def knn(X_train, y_train, X_test):\n",
    "    knn = KNeighborsClassifier(n_neighbors = 19, weights= 'distance')\n",
    "    knn.fit(X_train, y_train)\n",
    "    return knn.predict(X_test)\n",
    "    \n",
    "if GRIDSEARCH:\n",
    "    y_test_knn = knn_grid(X_train, y_train, X_test)\n",
    "else:\n",
    "    y_test_knn = knn(X_train, y_train, X_test)\n"
   ]
  },
  {
   "cell_type": "code",
   "execution_count": 48,
   "metadata": {
    "scrolled": false
   },
   "outputs": [
    {
     "name": "stdout",
     "output_type": "stream",
     "text": [
      "MSE:  0.15668789808917197\n",
      "RMSE:  0.3958382221175363\n",
      "R2:  -12.017959070026428\n",
      "# compare test and prediction\n",
      "      Wage_test  Wage_prediction\n",
      "0             1                0\n",
      "1             0                0\n",
      "2             1                0\n",
      "3             0                0\n",
      "4             0                0\n",
      "...         ...              ...\n",
      "1565          0                0\n",
      "1566          0                0\n",
      "1567          1                0\n",
      "1568          0                0\n",
      "1569          0                0\n",
      "\n",
      "[1570 rows x 2 columns]\n",
      "# bad predictions (over 100 difference)\n",
      "Empty DataFrame\n",
      "Columns: [Wage_test, Wage_prediction]\n",
      "Index: []\n",
      "# span of data\n",
      "1\n",
      "# median accuracy\n",
      "0.0\n",
      "# percent deviation\n",
      "0.0000 %\n",
      "[[1295   11]\n",
      " [ 235   29]]\n"
     ]
    },
    {
     "data": {
      "image/png": "[encoded data removed]",
      "text/plain": [
       "<Figure size 432x288 with 1 Axes>"
      ]
     },
     "metadata": {
      "needs_background": "light"
     },
     "output_type": "display_data"
    }
   ],
   "source": [
    "print_performance(y_test, y_test_knn)\n",
    "print_metrics(y_test, y_test_knn)\n",
    "print(metrics.confusion_matrix(y_test, y_test_knn))\n",
    "show_roc(y_test, y_test_knn)"
   ]
  },
  {
   "cell_type": "markdown",
   "metadata": {},
   "source": [
    "#### SVC"
   ]
  },
  {
   "cell_type": "code",
   "execution_count": 85,
   "metadata": {
    "scrolled": true
   },
   "outputs": [
    {
     "name": "stderr",
     "output_type": "stream",
     "text": [
      "/usr/local/lib/python3.7/site-packages/sklearn/svm/_base.py:947: ConvergenceWarning: Liblinear failed to converge, increase the number of iterations.\n",
      "  \"the number of iterations.\", ConvergenceWarning)\n"
     ]
    }
   ],
   "source": [
    "def svc_grid(X_train, y_train, X_test):\n",
    "    print('\\nSVC')\n",
    "    grid = GridSearchCV(estimator=SVC(random_state = 42),\n",
    "                 param_grid={'kernel': svc_kernel})\n",
    "    grid.fit(X_train, y_train)\n",
    "    print(grid.best_params_)\n",
    "    y_pred = grid.predict(X_test)\n",
    "    return y_pred\n",
    "\n",
    "def svc(X_train, y_train, X_test):\n",
    "    svc = LinearSVC(random_state = 42)\n",
    "    svc.fit(X_train, y_train)\n",
    "    return svc.predict(X_test)\n",
    "\n",
    "if GRIDSEARCH:\n",
    "    y_test_svc = svc_grid(X_train, y_train, X_test)\n",
    "else:\n",
    "    y_test_svc = svc(X_train, y_train, X_test)\n"
   ]
  },
  {
   "cell_type": "code",
   "execution_count": 86,
   "metadata": {},
   "outputs": [
    {
     "name": "stdout",
     "output_type": "stream",
     "text": [
      "MSE:  0.0\n",
      "RMSE:  0.0\n",
      "R2:  100.0\n",
      "# compare test and prediction\n",
      "      Wage_test  Wage_prediction\n",
      "0             1                1\n",
      "1             0                0\n",
      "2             1                1\n",
      "3             0                0\n",
      "4             0                0\n",
      "...         ...              ...\n",
      "1565          0                0\n",
      "1566          0                0\n",
      "1567          1                1\n",
      "1568          0                0\n",
      "1569          0                0\n",
      "\n",
      "[1570 rows x 2 columns]\n",
      "# bad predictions (over 100 difference)\n",
      "Empty DataFrame\n",
      "Columns: [Wage_test, Wage_prediction]\n",
      "Index: []\n",
      "# span of data\n",
      "1\n",
      "# median accuracy\n",
      "0.0\n",
      "# percent deviation\n",
      "0.0000 %\n",
      "[[1306    0]\n",
      " [   0  264]]\n"
     ]
    },
    {
     "data": {
      "image/png": "[encoded data removed]",
      "text/plain": [
       "<Figure size 432x288 with 1 Axes>"
      ]
     },
     "metadata": {
      "needs_background": "light"
     },
     "output_type": "display_data"
    }
   ],
   "source": [
    "print_performance(y_test, y_test_svc)\n",
    "print_metrics(y_test, y_test_svc)\n",
    "print(metrics.confusion_matrix(y_test, y_test_svc))\n",
    "show_roc(y_test, y_test_svc)"
   ]
  },
  {
   "cell_type": "markdown",
   "metadata": {},
   "source": [
    "#### Random Forest"
   ]
  },
  {
   "cell_type": "code",
   "execution_count": 51,
   "metadata": {},
   "outputs": [
    {
     "name": "stdout",
     "output_type": "stream",
     "text": [
      "\n",
      "Random Forest\n"
     ]
    }
   ],
   "source": [
    "def randomForest_grid(X_train, y_train, X_test):\n",
    "    print('\\nRandom Forest')\n",
    "    grid = GridSearchCV(estimator=RandomForestClassifier(),\n",
    "                 param_grid={'n_estimators': forest_n_estimators,\n",
    "                             'max_depth': forest_max_depth,\n",
    "                             'min_samples_leaf': forest_min_split})\n",
    "    grid.fit(X_train, y_train)\n",
    "    print(grid.best_params_)\n",
    "    y_pred = grid.predict(X_test)\n",
    "    return y_pred\n",
    "\n",
    "def randomForest(X_train, y_train, X_test):\n",
    "    print('\\nRandom Forest')\n",
    "    \n",
    "    if DATASET == 'cat':\n",
    "        if SCALING:\n",
    "            rf = RandomForestClassifier(max_depth = 15, min_samples_leaf = 15, n_estimators = 21)\n",
    "        else:\n",
    "            rf = RandomForestClassifier(max_depth = 28, min_samples_leaf = 15, n_estimators = 18)\n",
    "    else:\n",
    "        if SCALING:\n",
    "            rf = RandomForestClassifier(max_depth = 16, min_samples_leaf = 15, n_estimators = 20)\n",
    "        else:\n",
    "            rf = RandomForestClassifier(max_depth = 20, min_samples_leaf = 16, n_estimators = 27)\n",
    "    \n",
    "\n",
    "    rf.fit(X_train, y_train)\n",
    "    return rf.predict(X_test)\n",
    "\n",
    "if GRIDSEARCH:\n",
    "    y_test_rf = randomForest_grid(X_train, y_train, X_test)\n",
    "else:\n",
    "    y_test_rf = randomForest(X_train, y_train, X_test)\n"
   ]
  },
  {
   "cell_type": "code",
   "execution_count": 52,
   "metadata": {
    "scrolled": false
   },
   "outputs": [
    {
     "name": "stdout",
     "output_type": "stream",
     "text": [
      "MSE:  0.05159235668789809\n",
      "RMSE:  0.22713950930628096\n",
      "R2:  63.11603786718643\n",
      "# compare test and prediction\n",
      "      Wage_test  Wage_prediction\n",
      "0             1                1\n",
      "1             0                0\n",
      "2             1                1\n",
      "3             0                0\n",
      "4             0                0\n",
      "...         ...              ...\n",
      "1565          0                0\n",
      "1566          0                0\n",
      "1567          1                0\n",
      "1568          0                0\n",
      "1569          0                0\n",
      "\n",
      "[1570 rows x 2 columns]\n",
      "# bad predictions (over 100 difference)\n",
      "Empty DataFrame\n",
      "Columns: [Wage_test, Wage_prediction]\n",
      "Index: []\n",
      "# span of data\n",
      "1\n",
      "# median accuracy\n",
      "0.0\n",
      "# percent deviation\n",
      "0.0000 %\n",
      "[[1306    0]\n",
      " [   0  264]]\n"
     ]
    },
    {
     "data": {
      "image/png": "[encoded data removed]",
      "text/plain": [
       "<Figure size 432x288 with 1 Axes>"
      ]
     },
     "metadata": {
      "needs_background": "light"
     },
     "output_type": "display_data"
    }
   ],
   "source": [
    "print_performance(y_test, y_test_rf)\n",
    "print_metrics(y_test, y_test_rf)\n",
    "print(metrics.confusion_matrix(y_test, y_test_svc))\n",
    "show_roc(y_test, y_test_svc)"
   ]
  },
  {
   "cell_type": "code",
   "execution_count": 87,
   "metadata": {},
   "outputs": [],
   "source": [
    "############################################################################################"
   ]
  },
  {
   "cell_type": "markdown",
   "metadata": {},
   "source": [
    "# Cooles Metric Vergleichs Zeugs juhuu 😎😎😎"
   ]
  },
  {
   "cell_type": "code",
   "execution_count": 77,
   "metadata": {},
   "outputs": [],
   "source": [
    "from sklearn.metrics import precision_score, recall_score, accuracy_score, balanced_accuracy_score\n",
    "\n",
    "def get_knn_scores(X_train, y_train, X_test, y_test, k_range, metric):\n",
    "    P, R, A, BA, ks = [], [], [], [], []\n",
    "    for k in k_range:\n",
    "        if k % 2 != 0:\n",
    "            knn = KNeighborsClassifier(n_neighbors = k, weights= 'distance', metric=metric)\n",
    "            knn.fit(X_train, y_train)\n",
    "            y_pred = knn.predict(X_test)\n",
    "\n",
    "            P.append(precision_score(y_test, y_pred))\n",
    "            R.append(recall_score(y_test, y_pred))\n",
    "            A.append(accuracy_score(y_test, y_pred))\n",
    "            BA.append(balanced_accuracy_score(y_test, y_pred))\n",
    "            ks.append(k)\n",
    "    \n",
    "    return P,R,A,BA, ks\n",
    "\n",
    "\n",
    "def get_svc_scores(X_train, y_train, X_test, y_test, C_range):\n",
    "    P, R, A, BA, Cs = [], [], [], [], []\n",
    "    for C in C_range:\n",
    "        svc = LinearSVC(random_state = 42, C=C)\n",
    "        svc.fit(X_train, y_train)\n",
    "        y_pred = svc.predict(X_test)\n",
    "\n",
    "        P.append(precision_score(y_test, y_pred))\n",
    "        R.append(recall_score(y_test, y_pred))\n",
    "        A.append(accuracy_score(y_test, y_pred))\n",
    "        BA.append(balanced_accuracy_score(y_test, y_pred))\n",
    "        Cs.append(C)\n",
    "    \n",
    "    return P,R,A,BA, Cs"
   ]
  },
  {
   "cell_type": "code",
   "execution_count": 72,
   "metadata": {},
   "outputs": [],
   "source": [
    "# manhattan | euclidean | chebyshev\n",
    "metric = 'chebyshev'\n",
    "k_range = np.arange(1,29)\n",
    "\n",
    "P,R,A,BA,ks = get_knn_scores(X_train, y_train, X_test, y_test, k_range, metric)"
   ]
  },
  {
   "cell_type": "code",
   "execution_count": 43,
   "metadata": {},
   "outputs": [
    {
     "data": {
      "image/png": "[encoded data removed]",
      "text/plain": [
       "<Figure size 432x288 with 1 Axes>"
      ]
     },
     "metadata": {
      "needs_background": "light"
     },
     "output_type": "display_data"
    }
   ],
   "source": [
    "plt.plot(ks, P)\n",
    "plt.plot(ks, R)\n",
    "plt.plot(ks, A)\n",
    "plt.plot(ks, BA)\n",
    "plt.legend(['prc', 'rec', 'acc', 'bac'], loc='lower left')\n",
    "plt.title('lol title')\n",
    "plt.xlabel('k')\n",
    "plt.show()"
   ]
  },
  {
   "cell_type": "code",
   "execution_count": 78,
   "metadata": {
    "scrolled": true
   },
   "outputs": [
    {
     "name": "stderr",
     "output_type": "stream",
     "text": [
      "/usr/local/lib/python3.7/site-packages/sklearn/svm/_base.py:947: ConvergenceWarning: Liblinear failed to converge, increase the number of iterations.\n",
      "  \"the number of iterations.\", ConvergenceWarning)\n"
     ]
    }
   ],
   "source": [
    "C_range = np.logspace(-3, 3, num=30)\n",
    "\n",
    "P,R,A,BA,Cs = get_svc_scores(X_train, y_train, X_test, y_test, C_range)"
   ]
  },
  {
   "cell_type": "code",
   "execution_count": 61,
   "metadata": {},
   "outputs": [
    {
     "data": {
      "image/png": "[encoded data removed]",
      "text/plain": [
       "<Figure size 432x288 with 1 Axes>"
      ]
     },
     "metadata": {
      "needs_background": "light"
     },
     "output_type": "display_data"
    }
   ],
   "source": [
    "plt.plot(Cs, P)\n",
    "plt.plot(Cs, R)\n",
    "plt.plot(Cs, A)\n",
    "plt.plot(Cs, BA)\n",
    "plt.legend(['prc', 'rec', 'acc', 'bac'], loc='lower left')\n",
    "plt.title('lol title')\n",
    "plt.xlabel('C')\n",
    "plt.xscale('log')\n",
    "plt.show()"
   ]
  }
 ],
 "metadata": {
  "kernelspec": {
   "display_name": "Python 3",
   "language": "python",
   "name": "python3"
  },
  "language_info": {
   "codemirror_mode": {
    "name": "ipython",
    "version": 3
   },
   "file_extension": ".py",
   "mimetype": "text/x-python",
   "name": "python",
   "nbconvert_exporter": "python",
   "pygments_lexer": "ipython3",
   "version": "3.7.7"
  }
 },
 "nbformat": 4,
 "nbformat_minor": 4
}
