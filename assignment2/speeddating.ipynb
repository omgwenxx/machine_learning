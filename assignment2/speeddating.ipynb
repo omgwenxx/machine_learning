{
 "cells": [
  {
   "cell_type": "code",
   "execution_count": 27,
   "metadata": {},
   "outputs": [],
   "source": [
    "# import all the libraries\n",
    "import pandas as pd\n",
    "import numpy as np\n",
    "import matplotlib.pyplot as plt\n",
    "import scikitplot as skplt\n",
    "\n",
    "from sklearn.neighbors import KNeighborsClassifier\n",
    "from sklearn.ensemble import RandomForestClassifier\n",
    "from sklearn.svm import SVC\n",
    "\n",
    "from sklearn.model_selection import train_test_split\n",
    "from sklearn.model_selection import GridSearchCV\n",
    "import sklearn.metrics as metrics"
   ]
  },
  {
   "cell_type": "code",
   "execution_count": 89,
   "metadata": {},
   "outputs": [],
   "source": [
    "df = pd.read_csv(\"../data/speeddating/speeddating_cat.csv\")\n",
    "\n",
    "train, test = train_test_split(df, test_size=0.2, random_state=44)\n",
    "\n",
    "X_train = train.drop(['match'], axis=1)\n",
    "y_train = train['match']\n",
    "X_test = test.drop(['match'], axis=1)\n",
    "y_test = test['match']"
   ]
  },
  {
   "cell_type": "markdown",
   "metadata": {},
   "source": [
    "#### Define Hyperparameters to test"
   ]
  },
  {
   "cell_type": "code",
   "execution_count": 81,
   "metadata": {},
   "outputs": [],
   "source": [
    "# knn\n",
    "n_neighbour = np.arange(9, 21, 2) \n",
    "weights = ['uniform', 'distance']\n",
    "\n",
    "# svc\n",
    "svc_kernel = ['linear', 'poly', 'rbf', 'sigmoid']\n",
    "\n",
    "# trees\n",
    "tree_max_depth = [6, 9, 12, 15]\n",
    "tree_min_split = [3, 6, 9, 12]\n",
    "forest_n_estimators = np.arange(15, 30)\n",
    "forest_max_depth = np.arange(15, 30)\n",
    "forest_min_split = np.arange(15, 30)"
   ]
  },
  {
   "cell_type": "markdown",
   "metadata": {},
   "source": [
    "### scores"
   ]
  },
  {
   "cell_type": "code",
   "execution_count": 82,
   "metadata": {},
   "outputs": [],
   "source": [
    "# Scores: MSE, RMSE, R2\n",
    "def print_performance(y_test, y_pred):\n",
    "    # Mean Squared Error\n",
    "    print(\"MSE: \", metrics.mean_squared_error(y_test,y_pred))\n",
    "    \n",
    "    print(\"RMSE: \", np.sqrt(metrics.mean_squared_error(y_test,y_pred)))\n",
    "    \n",
    "    # R2 is between 0 and 100 percent\n",
    "    # 0 indicates that the model explains none of the variability of the response data around its mean.\n",
    "    # 100 indicates that the model explains all the variability of the response data around its mean.\n",
    "    print(\"R2: \", metrics.r2_score(y_test,y_pred) * 100)\n",
    "\n",
    "# DEPRECATED: especially for linear regression\n",
    "def print_scores(model, x_train, y_train):\n",
    "    r_sq = model.score(x_train, y_train)\n",
    "    b0 = model.intercept_\n",
    "    b1 = model.coef_\n",
    "    print(\"r_sq, coefficient of determination: \")\n",
    "    print(r_sq)\n",
    "    print(\"b0, intercept: \")\n",
    "    print(b0)\n",
    "    print(\"b1, slope: \")\n",
    "    print(b1)\n",
    "    \n",
    "    print(\"y_pred = model.intercept_ + model.coef_ * x\")\n",
    "\n",
    "# Metrics: various fancy metrics\n",
    "def print_metrics(y_test, y_pred):\n",
    "    results = pd.DataFrame(list(zip(y_test, y_pred)), \n",
    "                   columns =['Wage_test', 'Wage_prediction']) \n",
    "    \n",
    "    accuracy = results[\"Wage_test\"] - results[\"Wage_prediction\"]\n",
    "    accuracy = np.square(accuracy)\n",
    "    accuracy = np.sqrt(accuracy)\n",
    "    \n",
    "    print(\"# compare test and prediction\")\n",
    "    print(results)\n",
    "    \n",
    "    print(\"# bad predictions (over 100 difference)\")\n",
    "    print(results[(results[\"Wage_test\"] - results[\"Wage_prediction\"]) > 5])\n",
    "    \n",
    "    print(\"# span of data\")\n",
    "    span = results[\"Wage_test\"].max() - results[\"Wage_test\"].min()\n",
    "    print(span)\n",
    "    \n",
    "    print(\"# median accuracy\")\n",
    "    median = np.median(accuracy) \n",
    "    print(median)\n",
    "    \n",
    "    print(\"# percent deviation\")\n",
    "    percent = median / span * 100\n",
    "    percent_str = \"{:.4f}\".format(percent)\n",
    "    percent_str = percent_str + \" %\"\n",
    "    print(percent_str)\n",
    "    \n",
    "def show_roc(y_test, y_pred):\n",
    "    fpr, tpr, threshold = metrics.roc_curve(y_test, y_pred)\n",
    "    roc_auc = metrics.auc(fpr, tpr)\n",
    "\n",
    "    plt.title('Receiver Operating Characteristic')\n",
    "    plt.plot(fpr, tpr, 'b', label = 'AUC = %0.2f' % roc_auc)\n",
    "    plt.legend(loc = 'lower right')\n",
    "    plt.plot([0, 1], [0, 1],'r--')\n",
    "    plt.xlim([0, 1])\n",
    "    plt.ylim([0, 1])\n",
    "    plt.ylabel('True Positive Rate')\n",
    "    plt.xlabel('False Positive Rate')\n",
    "    plt.show()"
   ]
  },
  {
   "cell_type": "markdown",
   "metadata": {},
   "source": [
    "#### KNN"
   ]
  },
  {
   "cell_type": "code",
   "execution_count": 83,
   "metadata": {},
   "outputs": [],
   "source": [
    "def knn_grid(X_train, y_train, X_test):\n",
    "    print('KNN')\n",
    "    grid = GridSearchCV(estimator=KNeighborsClassifier(),\n",
    "                 param_grid={'n_neighbors': n_neighbour,\n",
    "                            'weights': weights})\n",
    "    grid.fit(X_train, y_train)\n",
    "    print(grid.best_params_)\n",
    "    return grid.predict(X_test)\n",
    "\n",
    "def knn(X_train, y_train, X_test):\n",
    "    # cat & num\n",
    "    knn = KNeighborsClassifier(n_neighbors = 19, weights= 'distance')\n",
    "    knn.fit(X_train, y_train)\n",
    "    return knn.predict(X_test)\n",
    "    \n",
    "# y_test_knn = knn_grid(X_train, y_train, X_test)\n",
    "y_test_knn = knn(X_train, y_train, X_test)\n"
   ]
  },
  {
   "cell_type": "code",
   "execution_count": 84,
   "metadata": {},
   "outputs": [
    {
     "name": "stdout",
     "output_type": "stream",
     "text": [
      "MSE:  0.15414012738853503\n",
      "RMSE:  0.3926068356365373\n",
      "R2:  -8.627978935195358\n",
      "# compare test and prediction\n",
      "      Wage_test  Wage_prediction\n",
      "0             1                0\n",
      "1             0                0\n",
      "2             1                0\n",
      "3             0                0\n",
      "4             0                0\n",
      "...         ...              ...\n",
      "3920          1                0\n",
      "3921          1                1\n",
      "3922          0                0\n",
      "3923          1                0\n",
      "3924          0                0\n",
      "\n",
      "[3925 rows x 2 columns]\n",
      "# bad predictions (over 100 difference)\n",
      "Empty DataFrame\n",
      "Columns: [Wage_test, Wage_prediction]\n",
      "Index: []\n",
      "# span of data\n",
      "1\n",
      "# median accuracy\n",
      "0.0\n",
      "# percent deviation\n",
      "0.0000 %\n",
      "[[3238   15]\n",
      " [ 590   82]]\n"
     ]
    },
    {
     "data": {
      "image/png": "[encoded data removed]",
      "text/plain": [
       "<Figure size 432x288 with 1 Axes>"
      ]
     },
     "metadata": {
      "needs_background": "light"
     },
     "output_type": "display_data"
    }
   ],
   "source": [
    "print_performance(y_test, y_test_knn)\n",
    "print_metrics(y_test, y_test_knn)\n",
    "print(metrics.confusion_matrix(y_test, y_test_knn))\n",
    "show_roc(y_test, y_test_knn)"
   ]
  },
  {
   "cell_type": "markdown",
   "metadata": {},
   "source": [
    "#### SVC"
   ]
  },
  {
   "cell_type": "code",
   "execution_count": 85,
   "metadata": {},
   "outputs": [],
   "source": [
    "def svc_grid(X_train, y_train, X_test):\n",
    "    print('\\nSVC')\n",
    "    grid = GridSearchCV(estimator=SVC(random_state = 42),\n",
    "                 param_grid={'kernel': svc_kernel})\n",
    "    grid.fit(X_train, y_train)\n",
    "    print(grid.best_params_)\n",
    "    y_pred = grid.predict(X_test)\n",
    "    return y_pred\n",
    "\n",
    "def svc(X_train, y_train, X_test):\n",
    "    # cat & num \n",
    "    svc = SVC(random_state = 42)\n",
    "    svc.fit(X_train, y_train)\n",
    "    return svc.predict(X_test)\n",
    "\n",
    "# y_test_svc = svc_grid(X_train, y_train, X_test)\n",
    "y_test_svc = svc(X_train, y_train, X_test)\n"
   ]
  },
  {
   "cell_type": "code",
   "execution_count": 86,
   "metadata": {},
   "outputs": [
    {
     "name": "stdout",
     "output_type": "stream",
     "text": [
      "MSE:  0.0\n",
      "RMSE:  0.0\n",
      "R2:  100.0\n",
      "# compare test and prediction\n",
      "      Wage_test  Wage_prediction\n",
      "0             1                1\n",
      "1             0                0\n",
      "2             1                1\n",
      "3             0                0\n",
      "4             0                0\n",
      "...         ...              ...\n",
      "3920          1                1\n",
      "3921          1                1\n",
      "3922          0                0\n",
      "3923          1                1\n",
      "3924          0                0\n",
      "\n",
      "[3925 rows x 2 columns]\n",
      "# bad predictions (over 100 difference)\n",
      "Empty DataFrame\n",
      "Columns: [Wage_test, Wage_prediction]\n",
      "Index: []\n",
      "# span of data\n",
      "1\n",
      "# median accuracy\n",
      "0.0\n",
      "# percent deviation\n",
      "0.0000 %\n",
      "[[3253    0]\n",
      " [   0  672]]\n"
     ]
    },
    {
     "data": {
      "image/png": "[encoded data removed]",
      "text/plain": [
       "<Figure size 432x288 with 1 Axes>"
      ]
     },
     "metadata": {
      "needs_background": "light"
     },
     "output_type": "display_data"
    }
   ],
   "source": [
    "print_performance(y_test, y_test_svc)\n",
    "print_metrics(y_test, y_test_svc)\n",
    "print(metrics.confusion_matrix(y_test, y_test_svc))\n",
    "show_roc(y_test, y_test_svc)"
   ]
  },
  {
   "cell_type": "markdown",
   "metadata": {},
   "source": [
    "#### Random Forest"
   ]
  },
  {
   "cell_type": "code",
   "execution_count": 87,
   "metadata": {},
   "outputs": [
    {
     "name": "stdout",
     "output_type": "stream",
     "text": [
      "\n",
      "Random Forest\n"
     ]
    }
   ],
   "source": [
    "def randomForest_grid(X_train, y_train, X_test):\n",
    "    print('\\nRandom Forest')\n",
    "    grid = GridSearchCV(estimator=RandomForestClassifier(),\n",
    "                 param_grid={'n_estimators': forest_n_estimators,\n",
    "                             'max_depth': forest_max_depth,\n",
    "                             'min_samples_leaf': forest_min_split})\n",
    "    grid.fit(X_train, y_train)\n",
    "    print(grid.best_params_)\n",
    "    y_pred = grid.predict(X_test)\n",
    "    return y_pred\n",
    "\n",
    "def randomForest(X_train, y_train, X_test):\n",
    "    print('\\nRandom Forest')\n",
    "    # num\n",
    "    # rf = RandomForestClassifier(max_depth = 20, min_samples_leaf = 16, n_estimators = 27)\n",
    "    # cat\n",
    "    rf = RandomForestClassifier(max_depth = 28, min_samples_leaf = 15, n_estimators = 18)\n",
    "    rf.fit(X_train, y_train)\n",
    "    return rf.predict(X_test)\n",
    "\n",
    "# y_test_rf = randomForest_grid(X_train, y_train, X_test)\n",
    "y_test_rf = randomForest(X_train, y_train, X_test)\n"
   ]
  },
  {
   "cell_type": "code",
   "execution_count": 88,
   "metadata": {
    "scrolled": false
   },
   "outputs": [
    {
     "name": "stdout",
     "output_type": "stream",
     "text": [
      "MSE:  0.08840764331210191\n",
      "RMSE:  0.29733422828880957\n",
      "R2:  37.69601869336729\n",
      "# compare test and prediction\n",
      "      Wage_test  Wage_prediction\n",
      "0             1                0\n",
      "1             0                0\n",
      "2             1                0\n",
      "3             0                0\n",
      "4             0                0\n",
      "...         ...              ...\n",
      "3920          1                0\n",
      "3921          1                1\n",
      "3922          0                0\n",
      "3923          1                0\n",
      "3924          0                0\n",
      "\n",
      "[3925 rows x 2 columns]\n",
      "# bad predictions (over 100 difference)\n",
      "Empty DataFrame\n",
      "Columns: [Wage_test, Wage_prediction]\n",
      "Index: []\n",
      "# span of data\n",
      "1\n",
      "# median accuracy\n",
      "0.0\n",
      "# percent deviation\n",
      "0.0000 %\n",
      "[[3253    0]\n",
      " [   0  672]]\n"
     ]
    },
    {
     "data": {
      "image/png": "[encoded data removed]",
      "text/plain": [
       "<Figure size 432x288 with 1 Axes>"
      ]
     },
     "metadata": {
      "needs_background": "light"
     },
     "output_type": "display_data"
    }
   ],
   "source": [
    "print_performance(y_test, y_test_rf)\n",
    "print_metrics(y_test, y_test_rf)\n",
    "print(metrics.confusion_matrix(y_test, y_test_svc))\n",
    "show_roc(y_test, y_test_svc)"
   ]
  }
 ],
 "metadata": {
  "kernelspec": {
   "display_name": "Python 3",
   "language": "python",
   "name": "python3"
  },
  "language_info": {
   "codemirror_mode": {
    "name": "ipython",
    "version": 3
   },
   "file_extension": ".py",
   "mimetype": "text/x-python",
   "name": "python",
   "nbconvert_exporter": "python",
   "pygments_lexer": "ipython3",
   "version": "3.7.7"
  }
 },
 "nbformat": 4,
 "nbformat_minor": 4
}
