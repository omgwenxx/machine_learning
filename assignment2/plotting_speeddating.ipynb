{
 "cells": [
  {
   "cell_type": "code",
   "execution_count": 40,
   "metadata": {},
   "outputs": [],
   "source": [
    "# import all the libraries\n",
    "import pandas as pd\n",
    "import numpy as np\n",
    "import matplotlib.pyplot as plt\n",
    "import seaborn as sns\n",
    "\n",
    "from sklearn.neighbors import KNeighborsClassifier\n",
    "from sklearn.ensemble import RandomForestClassifier\n",
    "from sklearn.svm import LinearSVC\n",
    "\n",
    "from sklearn.preprocessing import MinMaxScaler\n",
    "from sklearn.model_selection import train_test_split, cross_val_predict, GridSearchCV, KFold\n",
    "from sklearn.dummy import DummyClassifier\n",
    "from mlxtend.evaluate import paired_ttest_5x2cv\n",
    "from sklearn.metrics import accuracy_score, plot_confusion_matrix\n",
    "\n",
    "seed = np.random.seed(42)\n",
    "rng = np.random.RandomState(42)"
   ]
  },
  {
   "cell_type": "markdown",
   "metadata": {},
   "source": [
    "Train- and Testsplit are already provided and are 50/50. "
   ]
  },
  {
   "cell_type": "code",
   "execution_count": 11,
   "metadata": {},
   "outputs": [],
   "source": [
    "df = pd.read_csv(\"../data/speeddating/speeddating_num.csv\")\n",
    "\n",
    "X_train, X_test, y_train, y_test = train_test_split(df.drop(['match'], axis=1), df['match'])\n",
    "\n",
    "\n",
    "scaler = MinMaxScaler()\n",
    "X_train = scaler.fit_transform(X_train)\n",
    "X_test = scaler.transform(X_test)"
   ]
  },
  {
   "cell_type": "markdown",
   "metadata": {},
   "source": [
    "#### KNN"
   ]
  },
  {
   "cell_type": "code",
   "execution_count": 15,
   "metadata": {},
   "outputs": [
    {
     "data": {
      "text/plain": [
       "KNeighborsClassifier(algorithm='auto', leaf_size=30, metric='euclidean',\n",
       "                     metric_params=None, n_jobs=None, n_neighbors=23, p=2,\n",
       "                     weights='uniform')"
      ]
     },
     "execution_count": 15,
     "metadata": {},
     "output_type": "execute_result"
    }
   ],
   "source": [
    "def knn(X_train, y_train, X_test):\n",
    "    knn = KNeighborsClassifier(n_neighbors=23, metric='euclidean')\n",
    "    knn.fit(X_train, y_train)\n",
    "    return knn.predict(X_test)\n",
    "    \n",
    "knn = KNeighborsClassifier(n_neighbors=23, metric='euclidean')\n",
    "knn"
   ]
  },
  {
   "cell_type": "markdown",
   "metadata": {},
   "source": [
    "#### SVC"
   ]
  },
  {
   "cell_type": "code",
   "execution_count": 36,
   "metadata": {},
   "outputs": [],
   "source": [
    "def svc_grid(X_train, y_train, X_test):\n",
    "    print('\\nSVC')\n",
    "    grid = GridSearchCV(estimator=LinearSVC(random_state = 42),\n",
    "                        param_grid={'C': C}, \n",
    "                        cv = cv)\n",
    "    grid.fit(X_train, y_train)\n",
    "    print('Best Parameters with a score of is Accuracy of', grid.best_score_)\n",
    "    print(grid.best_params_)\n",
    "    return grid.best_estimator_\n",
    "\n",
    "def svc(X_train, y_train, X_test):\n",
    "    # {'kernel': 'linear'}\n",
    "    svc = SVC(random_state = 42)\n",
    "    svc.fit(X_train, y_train)\n",
    "    return svc.predict(X_test)\n",
    "\n",
    "svc = LinearSVC(random_state=42, dual=False, C=0.0045)"
   ]
  },
  {
   "cell_type": "markdown",
   "metadata": {},
   "source": [
    "#### Random Forest"
   ]
  },
  {
   "cell_type": "code",
   "execution_count": 26,
   "metadata": {},
   "outputs": [],
   "source": [
    "def randomForest_grid(X_train, y_train, X_test):\n",
    "    print('\\nRandom Forest')\n",
    "    grid = GridSearchCV(estimator=RandomForestClassifier(random_state = 42),\n",
    "                 param_grid={'n_estimators': rf_n_estimators,\n",
    "                             'max_depth': rf_max_depth,\n",
    "                             'max_features': rf_max_features},\n",
    "                        cv = cv)\n",
    "    grid.fit(X_train, y_train)\n",
    "    print('Best Parameters with a score of is Accuracy of', grid.best_score_)\n",
    "    print(grid.best_params_)\n",
    "    return grid.best_estimator_\n",
    "\n",
    "def randomForest(X_train, y_train, X_test):\n",
    "    print('\\nRandom Forest')\n",
    "    rf = RandomForestClassifier(max_depth = 20, min_samples_leaf = 15, n_estimators = 20)\n",
    "    rf.fit(X_train, y_train)\n",
    "    return rf.predict(X_test), rf\n",
    "\n",
    "rf = RandomForestClassifier(max_depth=25, max_features='auto', n_estimators=150)"
   ]
  },
  {
   "cell_type": "markdown",
   "metadata": {},
   "source": [
    "## CV vs. Holdout"
   ]
  },
  {
   "cell_type": "code",
   "execution_count": 28,
   "metadata": {},
   "outputs": [],
   "source": [
    "# use train set and split it within with random seeds \n",
    "# collect scores and take average and std\n",
    "# use with best model (taking accuracy from all classifiers)\n",
    "def collect_holdout(model, h_range):\n",
    "    scores = []\n",
    "    for i in h_range:\n",
    "        XX_train, XX_test, yy_train, yy_test = train_test_split(X_train, \n",
    "                                                            y_train, \n",
    "                                                            test_size=0.25, \n",
    "                                                            random_state=i)\n",
    "        model.fit(XX_train, yy_train)\n",
    "        scores.append(model.score(XX_test, yy_test))\n",
    "    return scores"
   ]
  },
  {
   "cell_type": "code",
   "execution_count": 29,
   "metadata": {},
   "outputs": [],
   "source": [
    "h_range = range(0,50)\n",
    "knn_holdout = collect_holdout(knn, h_range)"
   ]
  },
  {
   "cell_type": "code",
   "execution_count": 37,
   "metadata": {},
   "outputs": [],
   "source": [
    "h_range = range(0,50)\n",
    "svc_holdout = collect_holdout(svc, h_range)"
   ]
  },
  {
   "cell_type": "code",
   "execution_count": 34,
   "metadata": {},
   "outputs": [],
   "source": [
    "h_range = range(0,50)\n",
    "rf_holdout = collect_holdout(rf, h_range)"
   ]
  },
  {
   "cell_type": "code",
   "execution_count": 44,
   "metadata": {},
   "outputs": [
    {
     "data": {
      "image/png": "[encoded data removed]",
      "text/plain": [
       "<Figure size 432x288 with 1 Axes>"
      ]
     },
     "metadata": {
      "needs_background": "light"
     },
     "output_type": "display_data"
    }
   ],
   "source": [
    "plt.plot(h_range, knn_holdout)\n",
    "plt.plot(h_range, svc_holdout)\n",
    "plt.plot(h_range, rf_holdout)\n",
    "\n",
    "plt.legend(['knn', 'svc', 'random forest'], loc='lower right')\n",
    "plt.title(f'performance of classifiers using holdout and random seeds')\n",
    "plt.xlabel('random_state')\n",
    "plt.ylabel('accuracy')\n",
    "plt.savefig(f'holdout.png')\n",
    "plt.show()"
   ]
  },
  {
   "cell_type": "code",
   "execution_count": null,
   "metadata": {},
   "outputs": [],
   "source": []
  },
  {
   "cell_type": "markdown",
   "metadata": {},
   "source": [
    "## Significance Testing"
   ]
  },
  {
   "cell_type": "code",
   "execution_count": 43,
   "metadata": {},
   "outputs": [
    {
     "name": "stderr",
     "output_type": "stream",
     "text": [
      "/usr/local/lib/python3.7/site-packages/sklearn/dummy.py:132: FutureWarning: The default value of strategy will change from stratified to prior in 0.24.\n",
      "  \"stratified to prior in 0.24.\", FutureWarning)\n",
      "/usr/local/lib/python3.7/site-packages/sklearn/dummy.py:132: FutureWarning: The default value of strategy will change from stratified to prior in 0.24.\n",
      "  \"stratified to prior in 0.24.\", FutureWarning)\n",
      "/usr/local/lib/python3.7/site-packages/sklearn/dummy.py:132: FutureWarning: The default value of strategy will change from stratified to prior in 0.24.\n",
      "  \"stratified to prior in 0.24.\", FutureWarning)\n",
      "/usr/local/lib/python3.7/site-packages/sklearn/dummy.py:132: FutureWarning: The default value of strategy will change from stratified to prior in 0.24.\n",
      "  \"stratified to prior in 0.24.\", FutureWarning)\n",
      "/usr/local/lib/python3.7/site-packages/sklearn/dummy.py:132: FutureWarning: The default value of strategy will change from stratified to prior in 0.24.\n",
      "  \"stratified to prior in 0.24.\", FutureWarning)\n",
      "/usr/local/lib/python3.7/site-packages/sklearn/dummy.py:132: FutureWarning: The default value of strategy will change from stratified to prior in 0.24.\n",
      "  \"stratified to prior in 0.24.\", FutureWarning)\n",
      "/usr/local/lib/python3.7/site-packages/sklearn/dummy.py:132: FutureWarning: The default value of strategy will change from stratified to prior in 0.24.\n",
      "  \"stratified to prior in 0.24.\", FutureWarning)\n",
      "/usr/local/lib/python3.7/site-packages/sklearn/dummy.py:132: FutureWarning: The default value of strategy will change from stratified to prior in 0.24.\n",
      "  \"stratified to prior in 0.24.\", FutureWarning)\n",
      "/usr/local/lib/python3.7/site-packages/sklearn/dummy.py:132: FutureWarning: The default value of strategy will change from stratified to prior in 0.24.\n",
      "  \"stratified to prior in 0.24.\", FutureWarning)\n",
      "/usr/local/lib/python3.7/site-packages/sklearn/dummy.py:132: FutureWarning: The default value of strategy will change from stratified to prior in 0.24.\n",
      "  \"stratified to prior in 0.24.\", FutureWarning)\n"
     ]
    },
    {
     "name": "stdout",
     "output_type": "stream",
     "text": [
      "t statistic: -99.344\n",
      "p value: 0.000\n"
     ]
    }
   ],
   "source": [
    "# significance threshold of α=0.05 for rejecting the null hypothesis \n",
    "# that both algorithms perform equally well on the dataset\n",
    "# if p > α, null hypothesis cannot be rejected\n",
    "# if p < α, null hypothesis can be rejected, significant difference\n",
    "def significanceTesting(model, X, y):\n",
    "    # DummyClassifier, strategy \"stratified\"\n",
    "    dummy = DummyClassifier(random_state = 42)\n",
    "    t, p = paired_ttest_5x2cv(estimator1=dummy,\n",
    "                          estimator2=model,\n",
    "                          X=X, y=y,\n",
    "                          random_seed=1)\n",
    "    print('t statistic: %.3f' % t)\n",
    "    print('p value: %.3f' % p)\n",
    "significanceTesting(svc, df.drop(['match'], axis=1), df['match'])"
   ]
  }
 ],
 "metadata": {
  "kernelspec": {
   "display_name": "Python 3",
   "language": "python",
   "name": "python3"
  },
  "language_info": {
   "codemirror_mode": {
    "name": "ipython",
    "version": 3
   },
   "file_extension": ".py",
   "mimetype": "text/x-python",
   "name": "python",
   "nbconvert_exporter": "python",
   "pygments_lexer": "ipython3",
   "version": "3.7.7"
  }
 },
 "nbformat": 4,
 "nbformat_minor": 4
}
