{
  "cells": [
    {
      "cell_type": "code",
      "execution_count": 88,
      "metadata": {
        "pycharm": {}
      },
      "outputs": [],
      "source": "# import all the libraries\nimport pandas as pd\nimport numpy as np\nfrom sklearn.neighbors import KNeighborsClassifier\nfrom sklearn.metrics import plot_confusion_matrix\nfrom sklearn.ensemble import RandomForestClassifier\nfrom sklearn.model_selection import GridSearchCV\nfrom sklearn.svm import SVC\nfrom sklearn.metrics import accuracy_score"
    },
    {
      "cell_type": "markdown",
      "metadata": {
        "pycharm": {}
      },
      "source": [
        "Train/Test Split is 50/50."
      ]
    },
    {
      "cell_type": "code",
      "execution_count": 77,
      "metadata": {
        "pycharm": {}
      },
      "outputs": [],
      "source": [
        "# 750 entries, 10002 columns (includes ground truth Class)\n",
        "train \u003d pd.read_csv(\"../data/amazon/amazon_review_ID.shuf.lrn.csv\")\n",
        "\n",
        "# 750 entries, 10001 columns\n",
        "test \u003d pd.read_csv(\"../data/amazon/amazon_review_ID.shuf.tes.csv\")\n",
        "\n",
        "# 750 entries, 2 columns\n",
        "solution \u003d pd.read_csv(\"../data/amazon/amazon_review_ID.shuf.sol.ex.csv\")\n",
        "\n",
        "# df.drop(\u0027traffic_volume\u0027, axis\u003d1),df[\u0027traffic_volume\u0027]\n",
        "X_train \u003d train.drop([\u0027Class\u0027,\u0027ID\u0027], axis\u003d1)\n",
        "y_train \u003d train[\u0027Class\u0027]\n",
        "X_test \u003d test.drop([\u0027ID\u0027], axis\u003d1)"
      ]
    },
    {
      "cell_type": "markdown",
      "metadata": {
        "pycharm": {}
      },
      "source": [
        "Specify Hyperparameters to test:"
      ]
    },
    {
      "cell_type": "code",
      "execution_count": 100,
      "metadata": {
        "pycharm": {}
      },
      "outputs": [],
      "source": [
        "# knn\n",
        "n_neighbour \u003d np.arange(9, 21, 2) \n",
        "weights \u003d [\u0027uniform\u0027, \u0027distance\u0027]\n",
        "\n",
        "# svc\n",
        "svc_kernel \u003d [\u0027linear\u0027, \u0027poly\u0027, \u0027rbf\u0027, \u0027sigmoid\u0027]\n",
        "\n",
        "# trees\n",
        "tree_max_depth \u003d [6, 9, 12, 15]\n",
        "tree_min_split \u003d [3, 6, 9, 12]\n",
        "forest_n_estimators \u003d np.arange(15, 30)\n",
        "forest_max_depth \u003d np.arange(15, 30)\n",
        "forest_min_split \u003d np.arange(15, 30)"
      ]
    },
    {
      "cell_type": "markdown",
      "metadata": {
        "pycharm": {}
      },
      "source": [
        "#### KNN "
      ]
    },
    {
      "cell_type": "code",
      "execution_count": 101,
      "metadata": {
        "pycharm": {}
      },
      "outputs": [
        {
          "name": "stdout",
          "output_type": "stream",
          "text": [
            "KNN\n",
            "{\u0027n_neighbors\u0027: 11, \u0027weights\u0027: \u0027distance\u0027}\n",
            "Accuracy 0.016\n"
          ]
        }
      ],
      "source": [
        "def knn_grid(X_train, y_train, X_test):\n",
        "    print(\u0027KNN\u0027)\n",
        "    grid \u003d GridSearchCV(estimator\u003dKNeighborsClassifier(),\n",
        "                 param_grid\u003d{\u0027n_neighbors\u0027: n_neighbour,\n",
        "                            \u0027weights\u0027: weights})\n",
        "    grid.fit(X_train, y_train)\n",
        "    print(grid.best_params_)\n",
        "    return grid.predict(X_test)\n",
        "\n",
        "def knn(X_train, y_train, X_test):\n",
        "    # best parameters {\u0027n_neighbors\u0027: 11, \u0027weights\u0027: \u0027distance\u0027}\n",
        "    knn \u003d KNeighborsClassifier(n_neighbors \u003d 11, weights\u003d \u0027distance\u0027)\n",
        "    knn.fit(X_train, y_train)\n",
        "    return knn.predict(X_test)\n",
        "    \n",
        "y_test_knn \u003d knn_grid(X_train, y_train, X_test)\n",
        "print(\u0027Accuracy\u0027, accuracy_score(solution[\u0027Class\u0027], y_test_knn))"
      ]
    },
    {
      "cell_type": "markdown",
      "metadata": {
        "pycharm": {}
      },
      "source": [
        "#### SVC"
      ]
    },
    {
      "cell_type": "code",
      "execution_count": null,
      "metadata": {
        "pycharm": {}
      },
      "outputs": [
        {
          "name": "stdout",
          "output_type": "stream",
          "text": [
            "\n",
            "SVC\n"
          ]
        }
      ],
      "source": [
        "def svc_grid(X_train, y_train, X_test):\n",
        "    print(\u0027\\nSVC\u0027)\n",
        "    grid \u003d GridSearchCV(estimator\u003dSVC(random_state \u003d 42),\n",
        "                 param_grid\u003d{\u0027kernel\u0027: svc_kernel})\n",
        "    grid.fit(X_train, y_train)\n",
        "    print(grid.best_params_)\n",
        "    y_pred \u003d grid.predict(X_test)\n",
        "    return y_pred\n",
        "\n",
        "def svc(X_train, y_train, X_test):\n",
        "    svc \u003d SVC(random_state \u003d 42)\n",
        "    svc.fit(X_train, y_train)\n",
        "    return svc.predict(X_test)\n",
        "\n",
        "y_test_svc \u003d svc_grid(X_train, y_train, X_test)\n",
        "print(\u0027Accuracy\u0027, accuracy_score(solution[\u0027Class\u0027], y_test_svc))"
      ]
    },
    {
      "cell_type": "markdown",
      "metadata": {
        "pycharm": {}
      },
      "source": [
        "#### Random Forest"
      ]
    },
    {
      "cell_type": "code",
      "execution_count": 94,
      "metadata": {
        "pycharm": {}
      },
      "outputs": [
        {
          "name": "stdout",
          "output_type": "stream",
          "text": [
            "\n",
            "Random Forest\n",
            "{\u0027max_depth\u0027: 29, \u0027min_samples_leaf\u0027: 15, \u0027n_estimators\u0027: 29}\n",
            "Accuracy 0.028\n"
          ]
        }
      ],
      "source": [
        "def randomForest_grid(X_train, y_train, X_test):\n",
        "    print(\u0027\\nRandom Forest\u0027)\n",
        "    grid \u003d GridSearchCV(estimator\u003dRandomForestClassifier(),\n",
        "                 param_grid\u003d{\u0027n_estimators\u0027: forest_n_estimators,\n",
        "                             \u0027max_depth\u0027: forest_max_depth,\n",
        "                             \u0027min_samples_leaf\u0027: forest_min_split})\n",
        "    grid.fit(X_train, y_train)\n",
        "    print(grid.best_params_)\n",
        "    y_pred \u003d grid.predict(X_test)\n",
        "    return y_pred\n",
        "\n",
        "def randomForest(X_train, y_train, X_test):\n",
        "    print(\u0027\\nRandom Forest\u0027)\n",
        "    # {\u0027max_depth\u0027: 29, \u0027min_samples_leaf\u0027: 15, \u0027n_estimators\u0027: 29}\n",
        "    rf \u003d RandomForestClassifier(max_depth \u003d 20, min_samples_leaf \u003d 2, n_estimators \u003d 75)\n",
        "    rf.fit(X_train, y_train)\n",
        "    return rf.predict(X_test)\n",
        "\n",
        "y_test_rf \u003d randomForest_grid(X_train, y_train, X_test)\n",
        "print(\u0027Accuracy\u0027, accuracy_score(solution[\u0027Class\u0027], y_test_rf))"
      ]
    },
    {
      "cell_type": "code",
      "execution_count": null,
      "metadata": {
        "pycharm": {}
      },
      "outputs": [],
      "source": []
    }
  ],
  "metadata": {
    "kernelspec": {
      "display_name": "Python 3",
      "language": "python",
      "name": "python3"
    },
    "language_info": {
      "codemirror_mode": {
        "name": "ipython",
        "version": 3
      },
      "file_extension": ".py",
      "mimetype": "text/x-python",
      "name": "python",
      "nbconvert_exporter": "python",
      "pygments_lexer": "ipython3",
      "version": "3.7.6"
    }
  },
  "nbformat": 4,
  "nbformat_minor": 4
}