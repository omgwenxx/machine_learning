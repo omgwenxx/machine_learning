{
 "cells": [
  {
   "cell_type": "code",
   "execution_count": 17,
   "metadata": {},
   "outputs": [],
   "source": [
    "# import all the libraries\n",
    "import pandas as pd\n",
    "import numpy as np\n",
    "from sklearn.neighbors import KNeighborsClassifier\n",
    "from sklearn.metrics import plot_confusion_matrix\n",
    "from sklearn.ensemble import RandomForestClassifier\n",
    "from sklearn.model_selection import GridSearchCV\n",
    "from sklearn.svm import SVC\n",
    "from sklearn.metrics import accuracy_score"
   ]
  },
  {
   "cell_type": "code",
   "execution_count": 18,
   "metadata": {},
   "outputs": [],
   "source": [
    "# 285 entries, 32 columns (includes ground truth Class)\n",
    "train = pd.read_csv(\"../data/cancer/breast-cancer-diagnostic.shuf.lrn.csv\")\n",
    "\n",
    "# 284 entries, 31 columns\n",
    "test = pd.read_csv(\"../data/cancer/breast-cancer-diagnostic.shuf.tes.csv\")\n",
    "\n",
    "# 284 entries, 2 columns\n",
    "solution = pd.read_csv(\"../data/cancer/breast-cancer-diagnostic.shuf.sol.ex.csv\")\n",
    "\n",
    "X_train = train.drop(['class','ID'], axis=1)\n",
    "y_train = train['class']\n",
    "X_test = test.drop(['ID'], axis=1)"
   ]
  },
  {
   "cell_type": "markdown",
   "metadata": {},
   "source": [
    "#### Define Hyperparameters to test"
   ]
  },
  {
   "cell_type": "code",
   "execution_count": 29,
   "metadata": {},
   "outputs": [],
   "source": [
    "# knn\n",
    "n_neighbour = np.arange(9, 21, 2) \n",
    "weights = ['uniform', 'distance']\n",
    "\n",
    "# svc\n",
    "svc_kernel = ['linear', 'poly', 'rbf', 'sigmoid']\n",
    "\n",
    "# trees\n",
    "tree_max_depth = [6, 9, 12, 15]\n",
    "tree_min_split = [3, 6, 9, 12]\n",
    "forest_n_estimators = np.arange(15, 30)\n",
    "forest_max_depth = np.arange(15, 30)\n",
    "forest_min_split = np.arange(15, 30)"
   ]
  },
  {
   "cell_type": "markdown",
   "metadata": {},
   "source": [
    "#### KNN"
   ]
  },
  {
   "cell_type": "code",
   "execution_count": 30,
   "metadata": {},
   "outputs": [
    {
     "name": "stdout",
     "output_type": "stream",
     "text": [
      "Accuracy 0.6302816901408451\n"
     ]
    }
   ],
   "source": [
    "def knn_grid(X_train, y_train, X_test):\n",
    "    print('KNN')\n",
    "    grid = GridSearchCV(estimator=KNeighborsClassifier(),\n",
    "                 param_grid={'n_neighbors': n_neighbour,\n",
    "                            'weights': weights})\n",
    "    grid.fit(X_train, y_train)\n",
    "    print(grid.best_params_)\n",
    "    return grid.predict(X_test)\n",
    "\n",
    "def knn(X_train, y_train, X_test):\n",
    "    # best parameters {'n_neighbors': 9, 'weights': 'distance'}\n",
    "    knn = KNeighborsClassifier(n_neighbors = 9, weights= 'distance')\n",
    "    knn.fit(X_train, y_train)\n",
    "    return knn.predict(X_test)\n",
    "    \n",
    "y_test_knn = knn(X_train, y_train, X_test)\n",
    "print('Accuracy', accuracy_score(solution['class'], y_test_knn))"
   ]
  },
  {
   "cell_type": "markdown",
   "metadata": {},
   "source": [
    "#### SVC"
   ]
  },
  {
   "cell_type": "code",
   "execution_count": 31,
   "metadata": {},
   "outputs": [
    {
     "name": "stdout",
     "output_type": "stream",
     "text": [
      "\n",
      "SVC\n",
      "{'kernel': 'linear'}\n",
      "Accuracy 0.6197183098591549\n"
     ]
    }
   ],
   "source": [
    "def svc_grid(X_train, y_train, X_test):\n",
    "    print('\\nSVC')\n",
    "    grid = GridSearchCV(estimator=SVC(random_state = 42),\n",
    "                 param_grid={'kernel': svc_kernel})\n",
    "    grid.fit(X_train, y_train)\n",
    "    print(grid.best_params_)\n",
    "    y_pred = grid.predict(X_test)\n",
    "    return y_pred\n",
    "\n",
    "def svc(X_train, y_train, X_test):\n",
    "    # {'kernel': 'linear'}\n",
    "    svc = SVC(random_state = 42)\n",
    "    svc.fit(X_train, y_train)\n",
    "    return svc.predict(X_test)\n",
    "\n",
    "y_test_svc = svc_grid(X_train, y_train, X_test)\n",
    "print('Accuracy', accuracy_score(solution['class'], y_test_svc))"
   ]
  },
  {
   "cell_type": "markdown",
   "metadata": {},
   "source": [
    "#### Random Forest"
   ]
  },
  {
   "cell_type": "code",
   "execution_count": 33,
   "metadata": {},
   "outputs": [
    {
     "name": "stdout",
     "output_type": "stream",
     "text": [
      "\n",
      "Random Forest\n",
      "Accuracy 0.6126760563380281\n"
     ]
    }
   ],
   "source": [
    "def randomForest_grid(X_train, y_train, X_test):\n",
    "    print('\\nRandom Forest')\n",
    "    grid = GridSearchCV(estimator=RandomForestClassifier(),\n",
    "                 param_grid={'n_estimators': forest_n_estimators,\n",
    "                             'max_depth': forest_max_depth,\n",
    "                             'min_samples_leaf': forest_min_split})\n",
    "    grid.fit(X_train, y_train)\n",
    "    print(grid.best_params_)\n",
    "    y_pred = grid.predict(X_test)\n",
    "    return y_pred\n",
    "\n",
    "def randomForest(X_train, y_train, X_test):\n",
    "    print('\\nRandom Forest')\n",
    "    rf = RandomForestClassifier(max_depth = 20, min_samples_leaf = 15, n_estimators = 20)\n",
    "    rf.fit(X_train, y_train)\n",
    "    return rf.predict(X_test)\n",
    "\n",
    "y_test_rf = randomForest(X_train, y_train, X_test)\n",
    "print('Accuracy', accuracy_score(solution['class'], y_test_rf))"
   ]
  },
  {
   "cell_type": "code",
   "execution_count": null,
   "metadata": {},
   "outputs": [],
   "source": []
  },
  {
   "cell_type": "code",
   "execution_count": null,
   "metadata": {},
   "outputs": [],
   "source": []
  }
 ],
 "metadata": {
  "kernelspec": {
   "display_name": "Python 3",
   "language": "python",
   "name": "python3"
  },
  "language_info": {
   "codemirror_mode": {
    "name": "ipython",
    "version": 3
   },
   "file_extension": ".py",
   "mimetype": "text/x-python",
   "name": "python",
   "nbconvert_exporter": "python",
   "pygments_lexer": "ipython3",
   "version": "3.7.6"
  }
 },
 "nbformat": 4,
 "nbformat_minor": 4
}
