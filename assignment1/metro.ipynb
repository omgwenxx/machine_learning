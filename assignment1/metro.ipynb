{
 "cells": [
  {
   "cell_type": "markdown",
   "metadata": {},
   "source": [
    "### Dataset Visualizations\n",
    "\n",
    "Dataset used: [Metro dataset](https://archive.ics.uci.edu/ml/datasets/Metro+Interstate+Traffic+Volume)\n",
    "\n",
    "##### Features:\n",
    "* holiday: US National Holiday + Minnesota State Holiday\n",
    "* temp: average Temperature in Kelvin\n",
    "* rain_1h: mm or Rain\n",
    "* snow_1h: mm of Snow\n",
    "* clouds_all: percentage of cloud cover\n",
    "* weather_main: short text descr. of weather\n",
    "* weather_description: longer text descr. of weather\n",
    "* date_time: datetime\n",
    "* traffic_volume: westbound Traffic Volume (Ground Truth)"
   ]
  },
  {
   "cell_type": "code",
   "execution_count": 1,
   "metadata": {},
   "outputs": [],
   "source": [
    "# All imports needed\n",
    "import pandas as pd \n",
    "import numpy as np\n",
    "import matplotlib.pyplot as plt\n",
    "import seaborn as sns\n",
    "from sklearn.model_selection import train_test_split\n",
    "from sklearn.linear_model import LinearRegression\n",
    "from sklearn.preprocessing import PolynomialFeatures\n",
    "from sklearn import neighbors\n",
    "from sklearn.tree import DecisionTreeRegressor"
   ]
  },
  {
   "cell_type": "code",
   "execution_count": 2,
   "metadata": {},
   "outputs": [],
   "source": [
    "# Read data from file\n",
    "metro_wmain = pd.read_csv(\"../data/metro/metro_weather_main.csv\")\n",
    "metro_wmain_s = pd.read_csv(\"../data/metro/metro_weather_main_s.csv\")\n",
    "\n",
    "metro_wdescr = pd.read_csv(\"../data/metro/metro_weather_descr.csv\")\n",
    "metro_wdescr_s = pd.read_csv(\"../data/metro/metro_weather_descr_s.csv\")\n",
    "\n",
    "metro_wall = pd.read_csv(\"../data/metro/metro_weather_all.csv\")\n",
    "metro_wall_s = pd.read_csv(\"../data/metro/metro_weather_all_s.csv\")\n"
   ]
  },
  {
   "cell_type": "markdown",
   "metadata": {},
   "source": [
    "#### Dataset Exploration:"
   ]
  },
  {
   "cell_type": "code",
   "execution_count": 3,
   "metadata": {},
   "outputs": [
    {
     "data": {
      "text/plain": [
       "<matplotlib.axes._subplots.AxesSubplot at 0x1205da810>"
      ]
     },
     "execution_count": 3,
     "metadata": {},
     "output_type": "execute_result"
    },
    {
     "data": {
      "image/png": "[encoded data removed]",
      "text/plain": [
       "<Figure size 432x288 with 1 Axes>"
      ]
     },
     "metadata": {
      "needs_background": "light"
     },
     "output_type": "display_data"
    }
   ],
   "source": [
    "# distribution of target attribute \"quality\"\n",
    "sns.distplot(metro_wmain['traffic_volume']) # kde=0 if kernel density estimation is not necessary\n",
    "\n",
    "# Scatterplot-Matrix visualises correlation of every possible combination of attributes, \n",
    "# especially the correlation of the input attributes and the target attribute quality is of importance\n",
    "# sns.pairplot(metro_wmain)\n",
    "\n",
    "# heatmap visualises the correlation of each pair of values\n",
    "# sns.heatmap(metro_wmain.corr())"
   ]
  },
  {
   "cell_type": "markdown",
   "metadata": {},
   "source": [
    "#### Modeling:"
   ]
  },
  {
   "cell_type": "code",
   "execution_count": 4,
   "metadata": {},
   "outputs": [],
   "source": [
    "def linear_reg(dataset, name):\n",
    "    train, test = train_test_split(dataset, test_size=0.2)\n",
    "    \n",
    "    # Training Model\n",
    "    x_train = train.drop('traffic_volume', axis=1)\n",
    "    y_train = train['traffic_volume']\n",
    "\n",
    "    model = LinearRegression()\n",
    "    model.fit(x_train, y_train)\n",
    "\n",
    "    r_sq = model.score(x_train, y_train)\n",
    "\n",
    "    # Testing\n",
    "    x_test = test.drop('traffic_volume', axis=1)\n",
    "    y_test = test['traffic_volume']\n",
    "    y_pred = model.predict(x_test)\n",
    "    return([name, r_sq, y_test, y_pred])"
   ]
  },
  {
   "cell_type": "code",
   "execution_count": 5,
   "metadata": {},
   "outputs": [],
   "source": [
    "def polynomial_reg(dataset, name):\n",
    "    train, test = train_test_split(dataset, test_size=0.2)\n",
    "    \n",
    "    # Training Model\n",
    "    x_train = train.drop('traffic_volume', axis=1)\n",
    "    y_train = train['traffic_volume']\n",
    "\n",
    "    model = PolynomialFeatures(degree=2)\n",
    "    x_poly = model.fit_transform(x_train)\n",
    "\n",
    "    model.fit(x_poly, y_train)\n",
    "\n",
    "    r_sq = model.score(x_train, y_train)\n",
    "\n",
    "    # Testing\n",
    "    x_test = test.drop('traffic_volume', axis=1)\n",
    "    y_test = test['traffic_volume']\n",
    "    y_pred = model.predict(x_test)\n",
    "    return([name, r_sq, y_test, y_pred])"
   ]
  },
  {
   "cell_type": "code",
   "execution_count": 6,
   "metadata": {},
   "outputs": [],
   "source": [
    "def knn_reg(dataset, name):\n",
    "    train, test = train_test_split(dataset, test_size=0.2)\n",
    "    k_neighbors = 5\n",
    "    \n",
    "    # Training Model\n",
    "    x_train = train.drop('traffic_volume', axis=1)\n",
    "    y_train = train['traffic_volume']\n",
    "\n",
    "    model = neighbors.KNeighborsRegressor(k_neighbors)\n",
    "    model.fit(x_train, y_train)\n",
    "\n",
    "    r_sq = model.score(x_train, y_train)\n",
    "\n",
    "    # Testing\n",
    "    x_test = test.drop('traffic_volume', axis=1)\n",
    "    y_test = test['traffic_volume']\n",
    "    y_pred = model.predict(x_test)\n",
    "    return([name, r_sq, y_test, y_pred])"
   ]
  },
  {
   "cell_type": "code",
   "execution_count": 7,
   "metadata": {},
   "outputs": [],
   "source": [
    "def reg_tree(dataset, name):\n",
    "    train, test = train_test_split(dataset, test_size=0.2)\n",
    "    \n",
    "    # Training Model\n",
    "    x_train = train.drop('traffic_volume', axis=1)\n",
    "    y_train = train['traffic_volume']\n",
    "\n",
    "    model = DecisionTreeRegressor(random_state=0)\n",
    "    model.fit(x_train, y_train)\n",
    "\n",
    "    r_sq = model.score(x_train, y_train)\n",
    "\n",
    "    # Testing\n",
    "    x_test = test.drop('traffic_volume', axis=1)\n",
    "    y_test = test['traffic_volume']\n",
    "    y_pred = model.predict(x_test)\n",
    "    return([name, r_sq, y_test, y_pred])"
   ]
  },
  {
   "cell_type": "code",
   "execution_count": 8,
   "metadata": {},
   "outputs": [],
   "source": [
    "def plot(fig, data, row):\n",
    "    for i, d in enumerate(data):\n",
    "        plot_nr = row*3+i+1\n",
    "        ax = fig.add_subplot(3,3,plot_nr)\n",
    "        ax.scatter(d[2], d[3])\n",
    "        ax.set_title(d[0])\n",
    "        ax.set_aspect('equal')\n",
    "        plt.xticks(())\n",
    "        plt.yticks(())"
   ]
  },
  {
   "cell_type": "code",
   "execution_count": 13,
   "metadata": {},
   "outputs": [
    {
     "name": "stdout",
     "output_type": "stream",
     "text": [
      "linear done\n",
      "knn done\n",
      "tree done\n"
     ]
    },
    {
     "data": {
      "image/png": "[encoded data removed]",
      "text/plain": [
       "<Figure size 432x288 with 9 Axes>"
      ]
     },
     "metadata": {},
     "output_type": "display_data"
    }
   ],
   "source": [
    "names = ['weather_main', 'weather_descr', 'weather_all']\n",
    "# datasets = [metro_wmain, metro_wdescr, metro_wall]\n",
    "datasets = [metro_wmain_s, metro_wdescr_s, metro_wall_s]\n",
    "\n",
    "# linear regression\n",
    "y_m = linear_reg(datasets[0], names[0])\n",
    "y_d = linear_reg(datasets[1], names[1])\n",
    "y_a = linear_reg(datasets[2], names[2])\n",
    "linear = [y_m, y_d, y_a]\n",
    "print('linear done')\n",
    "\n",
    "# polynomial regression\n",
    "# y_m = polynomial_reg(datasets[0], names[0])\n",
    "# y_d = polynomial_reg(datasets[1], names[1])\n",
    "# y_a = polynomial_reg(datasets[2], names[2])\n",
    "# poly = [y_m, y_d, y_a]\n",
    "# print('polynomial done')\n",
    "\n",
    "# knn regression\n",
    "y_m = knn_reg(datasets[0], names[0])\n",
    "y_d = knn_reg(datasets[1], names[1])\n",
    "y_a = knn_reg(datasets[2], names[2])\n",
    "knn = [y_m, y_d, y_a]\n",
    "print('knn done')\n",
    "\n",
    "# regression tree\n",
    "y_m = reg_tree(datasets[0], names[0])\n",
    "y_d = reg_tree(datasets[1], names[1])\n",
    "y_a = reg_tree(datasets[2], names[2])\n",
    "tree = [y_m, y_d, y_a]\n",
    "print('tree done')\n",
    "\n",
    "# Plot outputs\n",
    "fig = plt.figure()\n",
    "\n",
    "plot(fig, linear, row=0)\n",
    "# plot(fig, poly, row=2)\n",
    "plot(fig, knn, row=1)\n",
    "plot(fig, tree, row=2)\n",
    "\n",
    "plt.show()"
   ]
  },
  {
   "cell_type": "code",
   "execution_count": null,
   "metadata": {},
   "outputs": [],
   "source": []
  }
 ],
 "metadata": {
  "kernelspec": {
   "display_name": "Python 3",
   "language": "python",
   "name": "python3"
  },
  "language_info": {
   "codemirror_mode": {
    "name": "ipython",
    "version": 3
   },
   "file_extension": ".py",
   "mimetype": "text/x-python",
   "name": "python",
   "nbconvert_exporter": "python",
   "pygments_lexer": "ipython3",
   "version": "3.7.7"
  }
 },
 "nbformat": 4,
 "nbformat_minor": 2
}
