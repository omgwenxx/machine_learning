{
 "cells": [
  {
   "cell_type": "code",
   "execution_count": 1,
   "metadata": {},
   "outputs": [],
   "source": [
    "# All imports needed\n",
    "import pandas as pd \n",
    "import numpy as np\n",
    "import matplotlib.pyplot as plt\n",
    "import seaborn as sns\n",
    "\n",
    "from sklearn import neighbors\n",
    "from sklearn.model_selection import train_test_split\n",
    "from sklearn.model_selection import GridSearchCV\n",
    "from sklearn.linear_model import LinearRegression\n",
    "from sklearn.linear_model import Ridge\n",
    "from sklearn.linear_model import Lasso\n",
    "\n",
    "from sklearn.tree import DecisionTreeRegressor\n",
    "from sklearn.ensemble import RandomForestRegressor\n",
    "import sklearn.metrics as metrics\n",
    "\n",
    "from sklearn.preprocessing import RobustScaler\n",
    "from sklearn.preprocessing import MinMaxScaler\n",
    "from sklearn.preprocessing import PolynomialFeatures "
   ]
  },
  {
   "cell_type": "markdown",
   "metadata": {},
   "source": [
    "### Dataset Visualizations\n",
    "\n",
    "Dataset used: [Real Estate dataset](http://archive.ics.uci.edu/ml/datasets/Real+estate+valuation+data+set)\n",
    "\n",
    "##### Features:\n",
    "* transcation date: the transaction date (for example, 2013.250=2013 March, 2013.500=2013 June, etc.)\n",
    "* house age: the house age (unit: year)\n",
    "* MRT distance: the distance to the nearest MRT station (unit: meter)\n",
    "* number of stores: the number of convenience stores in the living circle on foot (integer)\n",
    "* latitude: the geographic coordinate, latitude. (unit: degree)\n",
    "* longitude: the geographic coordinate, longitude. (unit: degree)\n",
    "\n",
    "The output is as follow\n",
    "* price: house price of unit area (10000 New Taiwan Dollar/Ping, where Ping is a local unit, 1 Ping = 3.3 meter squared)"
   ]
  },
  {
   "cell_type": "code",
   "execution_count": 2,
   "metadata": {},
   "outputs": [],
   "source": [
    "# Read data from file\n",
    "file_names = ['transaction date', 'house age', 'MRT distance', 'number of stores', 'latitude', 'longitude', 'price']\n",
    "real_estate = pd.read_csv(\"../data/estate/Real estate valuation data set.csv\", header = 0, names = file_names, usecols = range(1,8)) \n",
    "original_data = real_estate.copy()"
   ]
  },
  {
   "cell_type": "markdown",
   "metadata": {},
   "source": [
    "#### Data exploration:"
   ]
  },
  {
   "cell_type": "code",
   "execution_count": 6,
   "metadata": {},
   "outputs": [
    {
     "data": {
      "text/plain": [
       "(414, 7)"
      ]
     },
     "execution_count": 6,
     "metadata": {},
     "output_type": "execute_result"
    }
   ],
   "source": [
    "# original_data.info()\n",
    "# original_data.describe()\n",
    "# original_data.hist(figsize=(8,8))\n",
    "# original_data.boxplot()\n",
    "# original_data.shape"
   ]
  },
  {
   "cell_type": "markdown",
   "metadata": {},
   "source": [
    "#### Preprocessing:\n",
    "As the data set has a column of dates which is a float value, we decided it might increas the prediction quality if we separate according to the month and year. The value after the decimal point represents the month. Taking 100 divided by 12 (12 months) its values is the corresponding month if the valued is diveded by 100/12.\n",
    "We are going to test regression with different preprocessed datasets:\n",
    "\n",
    "* original_data: imported from the csv file, without any preprocessing\n",
    "* real_estate: transaction date splitted into transaction year and month (additional columns)\n",
    "\n",
    "To try out scaling, we decided (due to the fact that not all values are normally distributed) to try RobustScaling and MinMaxScaling."
   ]
  },
  {
   "cell_type": "code",
   "execution_count": 5,
   "metadata": {},
   "outputs": [
    {
     "data": {
      "text/html": [
       "<div>\n",
       "<style scoped>\n",
       "    .dataframe tbody tr th:only-of-type {\n",
       "        vertical-align: middle;\n",
       "    }\n",
       "\n",
       "    .dataframe tbody tr th {\n",
       "        vertical-align: top;\n",
       "    }\n",
       "\n",
       "    .dataframe thead th {\n",
       "        text-align: right;\n",
       "    }\n",
       "</style>\n",
       "<table border=\"1\" class=\"dataframe\">\n",
       "  <thead>\n",
       "    <tr style=\"text-align: right;\">\n",
       "      <th></th>\n",
       "      <th>house age</th>\n",
       "      <th>MRT distance</th>\n",
       "      <th>number of stores</th>\n",
       "      <th>latitude</th>\n",
       "      <th>longitude</th>\n",
       "      <th>price</th>\n",
       "      <th>transaction year</th>\n",
       "      <th>transaction month</th>\n",
       "    </tr>\n",
       "  </thead>\n",
       "  <tbody>\n",
       "    <tr>\n",
       "      <th>0</th>\n",
       "      <td>32.0</td>\n",
       "      <td>84.87882</td>\n",
       "      <td>10</td>\n",
       "      <td>24.98298</td>\n",
       "      <td>121.54024</td>\n",
       "      <td>37.9</td>\n",
       "      <td>2012.0</td>\n",
       "      <td>11.0</td>\n",
       "    </tr>\n",
       "    <tr>\n",
       "      <th>1</th>\n",
       "      <td>19.5</td>\n",
       "      <td>306.59470</td>\n",
       "      <td>9</td>\n",
       "      <td>24.98034</td>\n",
       "      <td>121.53951</td>\n",
       "      <td>42.2</td>\n",
       "      <td>2012.0</td>\n",
       "      <td>11.0</td>\n",
       "    </tr>\n",
       "    <tr>\n",
       "      <th>2</th>\n",
       "      <td>13.3</td>\n",
       "      <td>561.98450</td>\n",
       "      <td>5</td>\n",
       "      <td>24.98746</td>\n",
       "      <td>121.54391</td>\n",
       "      <td>47.3</td>\n",
       "      <td>2013.0</td>\n",
       "      <td>7.0</td>\n",
       "    </tr>\n",
       "    <tr>\n",
       "      <th>3</th>\n",
       "      <td>13.3</td>\n",
       "      <td>561.98450</td>\n",
       "      <td>5</td>\n",
       "      <td>24.98746</td>\n",
       "      <td>121.54391</td>\n",
       "      <td>54.8</td>\n",
       "      <td>2013.0</td>\n",
       "      <td>6.0</td>\n",
       "    </tr>\n",
       "    <tr>\n",
       "      <th>4</th>\n",
       "      <td>5.0</td>\n",
       "      <td>390.56840</td>\n",
       "      <td>5</td>\n",
       "      <td>24.97937</td>\n",
       "      <td>121.54245</td>\n",
       "      <td>43.1</td>\n",
       "      <td>2012.0</td>\n",
       "      <td>10.0</td>\n",
       "    </tr>\n",
       "  </tbody>\n",
       "</table>\n",
       "</div>"
      ],
      "text/plain": [
       "   house age  MRT distance  number of stores  latitude  longitude  price  \\\n",
       "0       32.0      84.87882                10  24.98298  121.54024   37.9   \n",
       "1       19.5     306.59470                 9  24.98034  121.53951   42.2   \n",
       "2       13.3     561.98450                 5  24.98746  121.54391   47.3   \n",
       "3       13.3     561.98450                 5  24.98746  121.54391   54.8   \n",
       "4        5.0     390.56840                 5  24.97937  121.54245   43.1   \n",
       "\n",
       "   transaction year  transaction month  \n",
       "0            2012.0               11.0  \n",
       "1            2012.0               11.0  \n",
       "2            2013.0                7.0  \n",
       "3            2013.0                6.0  \n",
       "4            2012.0               10.0  "
      ]
     },
     "execution_count": 5,
     "metadata": {},
     "output_type": "execute_result"
    }
   ],
   "source": [
    "# preprocessing date\n",
    "transaction_date = real_estate['transaction date'].astype(str).str.split('.', n = 1, expand = True)\n",
    "real_estate['transaction year'] = real_estate['transaction date'].apply(np.floor)\n",
    "real_estate['transaction month'] = (((abs(real_estate['transaction date']-real_estate['transaction year']))*1000)/83).round()\n",
    "real_estate = real_estate.drop(columns=['transaction date'])\n",
    "real_estate.head()"
   ]
  },
  {
   "cell_type": "markdown",
   "metadata": {},
   "source": [
    "#### Modeling:"
   ]
  },
  {
   "cell_type": "code",
   "execution_count": 6,
   "metadata": {},
   "outputs": [],
   "source": [
    "def polynomial_regression(X_train, X_test, y_train, degree = 2):\n",
    "    poly = PolynomialFeatures(degree)\n",
    "    x_poly = poly.fit_transform(X_train)\n",
    "    \n",
    "    model = LinearRegression()\n",
    "    model.fit(x_poly, y_train)\n",
    "    \n",
    "    y_pred = model.predict(poly.fit_transform(X_test))\n",
    "    return y_pred\n",
    "\n",
    "def plot_scatter(y_test, y_pred):\n",
    "    # Plot outputs\n",
    "    plt.scatter(y_test, y_pred)\n",
    "\n",
    "    plt.xticks(())\n",
    "    plt.yticks(())\n",
    "\n",
    "    plt.show()\n",
    "    \n",
    "def print_performance(y_test, y_pred):\n",
    "    # Mean Squared Error\n",
    "    print(\"MSE: \", metrics.mean_squared_error(y_test,y_pred))\n",
    "    \n",
    "    print(\"RMSE: \", metrics.mean_squared_error(y_test,y_pred, squared=False))\n",
    "    \n",
    "    # R2 is between 0 and 100 percent\n",
    "    # 0 indicates that the model explains none of the variability of the response data around its mean.\n",
    "    # 100 indicates that the model explains all the variability of the response data around its mean.\n",
    "    print(\"R2: \", metrics.r2_score(y_test,y_pred) * 100)"
   ]
  },
  {
   "cell_type": "code",
   "execution_count": 7,
   "metadata": {},
   "outputs": [],
   "source": [
    "# setting parameters for testing\n",
    "# regression models\n",
    "alpha = [0.1,0.9,1,2,4]\n",
    "normalize = [True, False]\n",
    "degrees = [2,3]\n",
    "\n",
    "# knn\n",
    "n_neighbour = [2, 5, 8, 12] \n",
    "weights = ['uniform', 'distance']\n",
    "\n",
    "# trees\n",
    "tree_max_depth = [6, 9, 12, 15]\n",
    "tree_min_split = [3, 6, 9, 12]\n",
    "forest_n_estimators = [10, 50, 75]\n",
    "forest_max_depth = [6, 9, 12, 15, 20]\n",
    "forest_min_split = [2, 5] "
   ]
  },
  {
   "cell_type": "markdown",
   "metadata": {},
   "source": [
    "#### Linear Models:"
   ]
  },
  {
   "cell_type": "code",
   "execution_count": 8,
   "metadata": {},
   "outputs": [
    {
     "name": "stdout",
     "output_type": "stream",
     "text": [
      "Linear Regression\n",
      "MSE:  92.5843449983826\n",
      "RMSE:  9.622075919383644\n",
      "R2:  54.159581531017764\n",
      "\n",
      "Lasso Regression\n",
      "{'alpha': 1, 'normalize': False}\n",
      "MSE:  112.18865178706046\n",
      "RMSE:  10.59191445334886\n",
      "R2:  44.453084962910026\n",
      "\n",
      "Ridge Regression\n",
      "{'alpha': 0.1, 'normalize': True}\n",
      "MSE:  93.11227090629585\n",
      "RMSE:  9.649469980589393\n",
      "R2:  53.89819452720212\n",
      "\n",
      "Polynomial Regression Degree 2\n",
      "MSE:  67.81739636332706\n",
      "RMSE:  8.235131836426607\n",
      "R2:  66.42220854048213\n",
      "\n",
      "Polynomial Regression Degree 3\n",
      "MSE:  149.86981362015567\n",
      "RMSE:  12.242132723514954\n",
      "R2:  25.79636468415555\n"
     ]
    }
   ],
   "source": [
    "X_train, X_test, y_train, y_test = train_test_split(real_estate.drop('price', axis=1),real_estate['price'], test_size=0.2)\n",
    "\n",
    "# preprocessing with scaler\n",
    "# scaler = RobustScaler()\n",
    "scaler = MinMaxScaler()\n",
    "scaler_X_train = scaler.fit_transform(X_train)\n",
    "scaler_X_test = scaler.transform(X_test)\n",
    "\n",
    "# Linear Regression\n",
    "print('Linear Regression')\n",
    "model = LinearRegression()\n",
    "model.fit(X_train, y_train)\n",
    "\n",
    "y_pred = model.predict(X_test)\n",
    "print_performance(y_test, y_pred)\n",
    "\n",
    "# Lasso Regression\n",
    "print('\\nLasso Regression')\n",
    "grid = GridSearchCV(estimator=Lasso(),\n",
    "             param_grid={'alpha': alpha,\n",
    "                        'normalize':normalize})\n",
    "grid.fit(X_train, y_train)\n",
    "print(grid.best_params_)\n",
    "y_pred = grid.predict(X_test)\n",
    "print_performance(y_test, y_pred)\n",
    "\n",
    "# Ridge Regression\n",
    "print('\\nRidge Regression')\n",
    "grid = GridSearchCV(estimator=Ridge(),\n",
    "             param_grid={'alpha': alpha,\n",
    "                        'normalize':normalize})\n",
    "grid.fit(X_train, y_train)\n",
    "print(grid.best_params_)\n",
    "y_pred = grid.predict(X_test)\n",
    "print_performance(y_test, y_pred)\n",
    "\n",
    "# Polynomial Regression\n",
    "print('\\nPolynomial Regression Degree 2')\n",
    "y_pred2 = polynomial_regression(X_train, X_test, y_train)\n",
    "print_performance(y_test, y_pred2)\n",
    "print('\\nPolynomial Regression Degree 3')\n",
    "y_pred3 = polynomial_regression(X_train, X_test, y_train, 3)\n",
    "print_performance(y_test, y_pred3)"
   ]
  },
  {
   "cell_type": "markdown",
   "metadata": {},
   "source": [
    "#### Non-parametric Model:"
   ]
  },
  {
   "cell_type": "code",
   "execution_count": 9,
   "metadata": {},
   "outputs": [
    {
     "name": "stdout",
     "output_type": "stream",
     "text": [
      "KNN\n",
      "{'n_neighbors': 12, 'weights': 'distance'}\n",
      "MSE:  68.59485768502593\n",
      "RMSE:  8.282201258423145\n",
      "R2:  66.03727140741988\n"
     ]
    }
   ],
   "source": [
    "# knn regression\n",
    "print('KNN')\n",
    "grid = GridSearchCV(estimator=neighbors.KNeighborsRegressor(),\n",
    "             param_grid={'n_neighbors': n_neighbour,\n",
    "                        'weights': weights})\n",
    "grid.fit(X_train, y_train)\n",
    "print(grid.best_params_)\n",
    "y_pred = grid.predict(X_test)\n",
    "print_performance(y_test, y_pred)"
   ]
  },
  {
   "cell_type": "markdown",
   "metadata": {},
   "source": [
    "#### Tree Models:"
   ]
  },
  {
   "cell_type": "code",
   "execution_count": 10,
   "metadata": {},
   "outputs": [
    {
     "name": "stdout",
     "output_type": "stream",
     "text": [
      "Regression Tree\n",
      "{'max_depth': 9, 'min_samples_leaf': 12}\n",
      "MSE:  65.99054648582755\n",
      "RMSE:  8.123456560222843\n",
      "R2:  67.3267195878525\n",
      "\n",
      "Random Forest\n",
      "{'max_depth': 20, 'min_samples_leaf': 5, 'n_estimators': 50}\n",
      "MSE:  53.14183570954541\n",
      "RMSE:  7.289844697217178\n",
      "R2:  73.68838125734949\n"
     ]
    }
   ],
   "source": [
    "# regression tree\n",
    "print('Regression Tree')\n",
    "grid = GridSearchCV(estimator=DecisionTreeRegressor(),\n",
    "             param_grid={'max_depth': tree_max_depth,\n",
    "                        'min_samples_leaf': tree_min_split})\n",
    "grid.fit(X_train, y_train)\n",
    "print(grid.best_params_)\n",
    "y_pred = grid.predict(X_test)\n",
    "print_performance(y_test, y_pred)\n",
    "\n",
    "# random forest\n",
    "print('\\nRandom Forest')\n",
    "grid = GridSearchCV(estimator=RandomForestRegressor(),\n",
    "             param_grid={'n_estimators': forest_n_estimators,\n",
    "                         'max_depth': forest_max_depth,\n",
    "                         'min_samples_leaf': forest_min_split})\n",
    "grid.fit(X_train, y_train)\n",
    "print(grid.best_params_)\n",
    "y_pred = grid.predict(X_test)\n",
    "print_performance(y_test, y_pred)"
   ]
  },
  {
   "cell_type": "code",
   "execution_count": null,
   "metadata": {},
   "outputs": [],
   "source": []
  }
 ],
 "metadata": {
  "kernelspec": {
   "display_name": "Python 3",
   "language": "python",
   "name": "python3"
  },
  "language_info": {
   "codemirror_mode": {
    "name": "ipython",
    "version": 3
   },
   "file_extension": ".py",
   "mimetype": "text/x-python",
   "name": "python",
   "nbconvert_exporter": "python",
   "pygments_lexer": "ipython3",
   "version": "3.7.7"
  }
 },
 "nbformat": 4,
 "nbformat_minor": 2
}
