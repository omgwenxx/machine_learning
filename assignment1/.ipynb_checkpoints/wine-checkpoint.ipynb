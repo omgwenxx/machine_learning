{
 "cells": [
  {
   "cell_type": "markdown",
   "metadata": {},
   "source": [
    "### Dataset Visualizations\n",
    "\n",
    "Dataset used: [Wine Quality dataset](https://archive.ics.uci.edu/ml/datasets/Wine+Quality)\n",
    "\n",
    "The two datasets are related to red and white variants of the Portuguese \"Vinho Verde\" wine. The reference [Cortez et al., 2009]. Due to privacy and logistic issues, only physicochemical (inputs) and sensory (the output) variables are available (e.g. there is no data about grape types, wine brand, wine selling price, etc.).\n",
    "\n",
    "##### Features:\n",
    "* Fixed Acidity\n",
    "* Volatile Acidity\n",
    "* Citric Acid\n",
    "* Residual Sugar\n",
    "* Chlorides\n",
    "* Free Sulfur Dioxide\n",
    "* Total Sulfur Dioxide\n",
    "* Density\n",
    "* pH\n",
    "* Sulphates\n",
    "* Alcohol\n",
    "* Wine Quality, score between 0 and 10 (Ground Truth)"
   ]
  },
  {
   "cell_type": "code",
   "execution_count": 16,
   "metadata": {},
   "outputs": [],
   "source": [
    "# All imports needed\n",
    "import pandas as pd \n",
    "import numpy as np\n",
    "import matplotlib.pyplot as plt\n",
    "import seaborn as sns\n",
    "from sklearn.model_selection import train_test_split\n",
    "from sklearn.linear_model import LinearRegression"
   ]
  },
  {
   "cell_type": "code",
   "execution_count": 4,
   "metadata": {},
   "outputs": [
    {
     "data": {
      "text/html": [
       "<div>\n",
       "<style scoped>\n",
       "    .dataframe tbody tr th:only-of-type {\n",
       "        vertical-align: middle;\n",
       "    }\n",
       "\n",
       "    .dataframe tbody tr th {\n",
       "        vertical-align: top;\n",
       "    }\n",
       "\n",
       "    .dataframe thead th {\n",
       "        text-align: right;\n",
       "    }\n",
       "</style>\n",
       "<table border=\"1\" class=\"dataframe\">\n",
       "  <thead>\n",
       "    <tr style=\"text-align: right;\">\n",
       "      <th></th>\n",
       "      <th>fixed acidity</th>\n",
       "      <th>volatile acidity</th>\n",
       "      <th>citric acid</th>\n",
       "      <th>residual sugar</th>\n",
       "      <th>chlorides</th>\n",
       "      <th>free sulfur dioxide</th>\n",
       "      <th>total sulfur dioxide</th>\n",
       "      <th>density</th>\n",
       "      <th>pH</th>\n",
       "      <th>sulphates</th>\n",
       "      <th>alcohol</th>\n",
       "      <th>quality</th>\n",
       "    </tr>\n",
       "  </thead>\n",
       "  <tbody>\n",
       "    <tr>\n",
       "      <td>0</td>\n",
       "      <td>7.4</td>\n",
       "      <td>0.70</td>\n",
       "      <td>0.00</td>\n",
       "      <td>1.9</td>\n",
       "      <td>0.076</td>\n",
       "      <td>11.0</td>\n",
       "      <td>34.0</td>\n",
       "      <td>0.9978</td>\n",
       "      <td>3.51</td>\n",
       "      <td>0.56</td>\n",
       "      <td>9.4</td>\n",
       "      <td>5</td>\n",
       "    </tr>\n",
       "    <tr>\n",
       "      <td>1</td>\n",
       "      <td>7.8</td>\n",
       "      <td>0.88</td>\n",
       "      <td>0.00</td>\n",
       "      <td>2.6</td>\n",
       "      <td>0.098</td>\n",
       "      <td>25.0</td>\n",
       "      <td>67.0</td>\n",
       "      <td>0.9968</td>\n",
       "      <td>3.20</td>\n",
       "      <td>0.68</td>\n",
       "      <td>9.8</td>\n",
       "      <td>5</td>\n",
       "    </tr>\n",
       "    <tr>\n",
       "      <td>2</td>\n",
       "      <td>7.8</td>\n",
       "      <td>0.76</td>\n",
       "      <td>0.04</td>\n",
       "      <td>2.3</td>\n",
       "      <td>0.092</td>\n",
       "      <td>15.0</td>\n",
       "      <td>54.0</td>\n",
       "      <td>0.9970</td>\n",
       "      <td>3.26</td>\n",
       "      <td>0.65</td>\n",
       "      <td>9.8</td>\n",
       "      <td>5</td>\n",
       "    </tr>\n",
       "    <tr>\n",
       "      <td>3</td>\n",
       "      <td>11.2</td>\n",
       "      <td>0.28</td>\n",
       "      <td>0.56</td>\n",
       "      <td>1.9</td>\n",
       "      <td>0.075</td>\n",
       "      <td>17.0</td>\n",
       "      <td>60.0</td>\n",
       "      <td>0.9980</td>\n",
       "      <td>3.16</td>\n",
       "      <td>0.58</td>\n",
       "      <td>9.8</td>\n",
       "      <td>6</td>\n",
       "    </tr>\n",
       "    <tr>\n",
       "      <td>4</td>\n",
       "      <td>7.4</td>\n",
       "      <td>0.70</td>\n",
       "      <td>0.00</td>\n",
       "      <td>1.9</td>\n",
       "      <td>0.076</td>\n",
       "      <td>11.0</td>\n",
       "      <td>34.0</td>\n",
       "      <td>0.9978</td>\n",
       "      <td>3.51</td>\n",
       "      <td>0.56</td>\n",
       "      <td>9.4</td>\n",
       "      <td>5</td>\n",
       "    </tr>\n",
       "  </tbody>\n",
       "</table>\n",
       "</div>"
      ],
      "text/plain": [
       "   fixed acidity  volatile acidity  citric acid  residual sugar  chlorides  \\\n",
       "0            7.4              0.70         0.00             1.9      0.076   \n",
       "1            7.8              0.88         0.00             2.6      0.098   \n",
       "2            7.8              0.76         0.04             2.3      0.092   \n",
       "3           11.2              0.28         0.56             1.9      0.075   \n",
       "4            7.4              0.70         0.00             1.9      0.076   \n",
       "\n",
       "   free sulfur dioxide  total sulfur dioxide  density    pH  sulphates  \\\n",
       "0                 11.0                  34.0   0.9978  3.51       0.56   \n",
       "1                 25.0                  67.0   0.9968  3.20       0.68   \n",
       "2                 15.0                  54.0   0.9970  3.26       0.65   \n",
       "3                 17.0                  60.0   0.9980  3.16       0.58   \n",
       "4                 11.0                  34.0   0.9978  3.51       0.56   \n",
       "\n",
       "   alcohol  quality  \n",
       "0      9.4        5  \n",
       "1      9.8        5  \n",
       "2      9.8        5  \n",
       "3      9.8        6  \n",
       "4      9.4        5  "
      ]
     },
     "execution_count": 4,
     "metadata": {},
     "output_type": "execute_result"
    }
   ],
   "source": [
    "# Read data from file\n",
    "white_wine = pd.read_csv(\"../data/wine/winequality-white.csv\", sep=';') \n",
    "red_wine = pd.read_csv(\"../data/wine/winequality-red.csv\", sep=';') \n",
    "wine = pd.concat([red_wine,white_wine])\n",
    "\n",
    "wine.head()"
   ]
  },
  {
   "cell_type": "markdown",
   "metadata": {},
   "source": [
    "#### Dataset Exploration:"
   ]
  },
  {
   "cell_type": "code",
   "execution_count": null,
   "metadata": {},
   "outputs": [],
   "source": [
    "# distribution of target attribute \"quality\"\n",
    "sns.distplot(wine.quality) # kde=0 if kernel density estimation is not necessary\n",
    "\n",
    "# Scatterplot-Matrix visualises correlation of every possible combination of attributes, \n",
    "# especially the correlation of the input attributes and the target attribute quality is of importance\n",
    "# sns.pairplot(wine)\n",
    "\n",
    "# heatmap visualises the correlation of each pair of values\n",
    "sns.heatmap(wine.corr())"
   ]
  },
  {
   "cell_type": "markdown",
   "metadata": {},
   "source": [
    "#### Modeling:"
   ]
  },
  {
   "cell_type": "code",
   "execution_count": 25,
   "metadata": {},
   "outputs": [
    {
     "data": {
      "image/png": "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\n",
      "text/plain": [
       "<Figure size 432x288 with 1 Axes>"
      ]
     },
     "metadata": {},
     "output_type": "display_data"
    }
   ],
   "source": [
    "train, test = train_test_split(wine, test_size=0.2)\n",
    "\n",
    "# Training Model\n",
    "x_train = train.drop('quality', axis=1)\n",
    "y_train = train['quality']\n",
    "\n",
    "model = LinearRegression()\n",
    "model.fit(x_train, y_train)\n",
    "\n",
    "r_sq = model.score(x_train, y_train)\n",
    "\n",
    "# Testing\n",
    "x_test = test.drop('quality', axis=1)\n",
    "y_test = test['quality']\n",
    "y_pred = model.predict(x_test)\n",
    "\n",
    "# Plot outputs\n",
    "plt.scatter(y_test, y_pred)\n",
    "\n",
    "plt.xticks(())\n",
    "plt.yticks(())\n",
    "\n",
    "plt.show()"
   ]
  },
  {
   "cell_type": "code",
   "execution_count": null,
   "metadata": {},
   "outputs": [],
   "source": []
  }
 ],
 "metadata": {
  "kernelspec": {
   "display_name": "Python 3",
   "language": "python",
   "name": "python3"
  },
  "language_info": {
   "codemirror_mode": {
    "name": "ipython",
    "version": 3
   },
   "file_extension": ".py",
   "mimetype": "text/x-python",
   "name": "python",
   "nbconvert_exporter": "python",
   "pygments_lexer": "ipython3",
<<<<<<< HEAD
   "version": "3.7.4"
=======
   "version": "3.7.7"
>>>>>>> 25185fe90cd8eabfe9b83e50116e2e79f31c6ebc
  }
 },
 "nbformat": 4,
 "nbformat_minor": 2
}
