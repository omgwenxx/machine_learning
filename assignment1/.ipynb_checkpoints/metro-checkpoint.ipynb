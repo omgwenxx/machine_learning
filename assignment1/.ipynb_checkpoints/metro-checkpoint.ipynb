{
 "cells": [
  {
   "cell_type": "markdown",
<<<<<<< HEAD
   "metadata": {
    "pycharm": {}
   },
=======
   "metadata": {},
>>>>>>> 25185fe90cd8eabfe9b83e50116e2e79f31c6ebc
   "source": [
    "### Dataset Visualizations\n",
    "\n",
    "Dataset used: [Metro dataset](https://archive.ics.uci.edu/ml/datasets/Metro+Interstate+Traffic+Volume)\n",
    "\n",
    "##### Features:\n",
    "* holiday: US National Holiday + Minnesota State Holiday\n",
    "* temp: average Temperature in Kelvin\n",
    "* rain_1h: mm or Rain\n",
    "* snow_1h: mm of Snow\n",
    "* clouds_all: percentage of cloud cover\n",
    "* weather_main: short text descr. of weather\n",
    "* weather_description: longer text descr. of weather\n",
    "* date_time: datetime\n",
    "* traffic_volume: westbound Traffic Volume (Ground Truth)"
   ]
  },
  {
   "cell_type": "code",
<<<<<<< HEAD
   "execution_count": 60,
   "metadata": {
    "pycharm": {}
   },
=======
   "execution_count": 11,
   "metadata": {},
>>>>>>> 25185fe90cd8eabfe9b83e50116e2e79f31c6ebc
   "outputs": [],
   "source": [
    "# All imports needed\n",
    "import pandas as pd \n",
    "import numpy as np\n",
    "import matplotlib.pyplot as plt\n",
    "import seaborn as sns\n",
<<<<<<< HEAD
    "\n",
    "import datetime"
   ]
  },
  {
   "cell_type": "code",
   "execution_count": 61,
   "metadata": {
    "pycharm": {
     "name": "#%%\n"
    }
   },
   "outputs": [
    {
     "data": {
      "text/html": [
       "<div>\n",
       "<style scoped>\n",
       "    .dataframe tbody tr th:only-of-type {\n",
       "        vertical-align: middle;\n",
       "    }\n",
       "\n",
       "    .dataframe tbody tr th {\n",
       "        vertical-align: top;\n",
       "    }\n",
       "\n",
       "    .dataframe thead th {\n",
       "        text-align: right;\n",
       "    }\n",
       "</style>\n",
       "<table border=\"1\" class=\"dataframe\">\n",
       "  <thead>\n",
       "    <tr style=\"text-align: right;\">\n",
       "      <th></th>\n",
       "      <th>holiday</th>\n",
       "      <th>temp</th>\n",
       "      <th>rain_1h</th>\n",
       "      <th>snow_1h</th>\n",
       "      <th>clouds_all</th>\n",
       "      <th>weather_main</th>\n",
       "      <th>weather_description</th>\n",
       "      <th>date_time</th>\n",
       "      <th>traffic_volume</th>\n",
       "    </tr>\n",
       "  </thead>\n",
       "  <tbody>\n",
       "    <tr>\n",
       "      <th>0</th>\n",
       "      <td>None</td>\n",
       "      <td>288.28</td>\n",
       "      <td>0.0</td>\n",
       "      <td>0.0</td>\n",
       "      <td>40</td>\n",
       "      <td>Clouds</td>\n",
       "      <td>scattered clouds</td>\n",
       "      <td>2012-10-02 09:00:00</td>\n",
       "      <td>5545</td>\n",
       "    </tr>\n",
       "    <tr>\n",
       "      <th>1</th>\n",
       "      <td>None</td>\n",
       "      <td>289.36</td>\n",
       "      <td>0.0</td>\n",
       "      <td>0.0</td>\n",
       "      <td>75</td>\n",
       "      <td>Clouds</td>\n",
       "      <td>broken clouds</td>\n",
       "      <td>2012-10-02 10:00:00</td>\n",
       "      <td>4516</td>\n",
       "    </tr>\n",
       "    <tr>\n",
       "      <th>2</th>\n",
       "      <td>None</td>\n",
       "      <td>289.58</td>\n",
       "      <td>0.0</td>\n",
       "      <td>0.0</td>\n",
       "      <td>90</td>\n",
       "      <td>Clouds</td>\n",
       "      <td>overcast clouds</td>\n",
       "      <td>2012-10-02 11:00:00</td>\n",
       "      <td>4767</td>\n",
       "    </tr>\n",
       "    <tr>\n",
       "      <th>3</th>\n",
       "      <td>None</td>\n",
       "      <td>290.13</td>\n",
       "      <td>0.0</td>\n",
       "      <td>0.0</td>\n",
       "      <td>90</td>\n",
       "      <td>Clouds</td>\n",
       "      <td>overcast clouds</td>\n",
       "      <td>2012-10-02 12:00:00</td>\n",
       "      <td>5026</td>\n",
       "    </tr>\n",
       "    <tr>\n",
       "      <th>4</th>\n",
       "      <td>None</td>\n",
       "      <td>291.14</td>\n",
       "      <td>0.0</td>\n",
       "      <td>0.0</td>\n",
       "      <td>75</td>\n",
       "      <td>Clouds</td>\n",
       "      <td>broken clouds</td>\n",
       "      <td>2012-10-02 13:00:00</td>\n",
       "      <td>4918</td>\n",
       "    </tr>\n",
       "  </tbody>\n",
       "</table>\n",
       "</div>"
      ],
      "text/plain": [
       "  holiday    temp  rain_1h  snow_1h  clouds_all weather_main  \\\n",
       "0    None  288.28      0.0      0.0          40       Clouds   \n",
       "1    None  289.36      0.0      0.0          75       Clouds   \n",
       "2    None  289.58      0.0      0.0          90       Clouds   \n",
       "3    None  290.13      0.0      0.0          90       Clouds   \n",
       "4    None  291.14      0.0      0.0          75       Clouds   \n",
       "\n",
       "  weather_description            date_time  traffic_volume  \n",
       "0    scattered clouds  2012-10-02 09:00:00            5545  \n",
       "1       broken clouds  2012-10-02 10:00:00            4516  \n",
       "2     overcast clouds  2012-10-02 11:00:00            4767  \n",
       "3     overcast clouds  2012-10-02 12:00:00            5026  \n",
       "4       broken clouds  2012-10-02 13:00:00            4918  "
      ]
     },
     "execution_count": 61,
     "metadata": {},
     "output_type": "execute_result"
    }
   ],
   "source": [
    "# Read data from file\n",
    "df = pd.read_csv(\"../data/metro/metro_raw.csv\")\n",
    "df.head()"
   ]
  },
  {
   "cell_type": "code",
   "execution_count": 62,
   "metadata": {
    "pycharm": {}
   },
   "outputs": [
    {
     "data": {
      "text/plain": [
       "(0, 9)"
      ]
     },
     "execution_count": 62,
     "metadata": {},
     "output_type": "execute_result"
    }
   ],
   "source": [
    "# Showing missing values in metro dataset (none)\n",
    "null_vals = df[df.isnull().values.any(axis=1)]\n",
    "null_vals.shape"
=======
    "from sklearn.model_selection import train_test_split\n",
    "from sklearn.linear_model import LinearRegression\n",
    "from sklearn.preprocessing import PolynomialFeatures"
>>>>>>> 25185fe90cd8eabfe9b83e50116e2e79f31c6ebc
   ]
  },
  {
   "cell_type": "code",
<<<<<<< HEAD
   "execution_count": 63,
   "metadata": {},
   "outputs": [],
   "source": [
    "# separate data from ground truth\n",
    "X = df.drop('traffic_volume', axis=1)\n",
    "Y = df['traffic_volume']"
   ]
  },
  {
   "cell_type": "code",
   "execution_count": 64,
   "metadata": {},
   "outputs": [],
   "source": [
    "X.head()"
=======
   "execution_count": 12,
   "metadata": {},
   "outputs": [],
   "source": [
    "# Read data from file\n",
    "metro_wmain = pd.read_csv(\"../data/metro/metro_weather_main.csv\") \n",
    "metro_wdescr = pd.read_csv(\"../data/metro/metro_weather_descr.csv\") \n",
    "metro_wall = pd.read_csv(\"../data/metro/metro_weather_all.csv\") \n"
   ]
  },
  {
   "cell_type": "markdown",
   "metadata": {},
   "source": [
    "#### Dataset Exploration:"
>>>>>>> 25185fe90cd8eabfe9b83e50116e2e79f31c6ebc
   ]
  },
  {
   "cell_type": "code",
<<<<<<< HEAD
   "execution_count": 65,
   "metadata": {},
   "outputs": [
    {
     "name": "stdout",
     "output_type": "stream",
     "text": [
      "Feature 'holiday' has 12 unique categories\n",
      "Feature 'weather_main' has 11 unique categories\n",
      "Feature 'weather_description' has 38 unique categories\n",
      "Feature 'date_time' has 40575 unique categories\n"
     ]
    }
   ],
   "source": [
    "# show categorical features\n",
    "for col_name in X.columns:\n",
    "    if X[col_name].dtypes == 'object':\n",
    "        unique_cat = len(X[col_name].unique())\n",
    "        print(\"Feature '{col_name}' has {unique_cat} unique categories\".format(\n",
    "        col_name=col_name, unique_cat=unique_cat))"
   ]
  },
  {
   "cell_type": "code",
   "execution_count": 66,
   "metadata": {},
   "outputs": [],
   "source": [
    "# clean up holiday feature\n",
    "X['holiday'] = [0 if x == 'None' else 1 for x in X['holiday']]\n",
    "print(X['holiday'].value_counts())"
   ]
  },
  {
   "cell_type": "code",
   "execution_count": 67,
   "metadata": {},
   "outputs": [],
   "source": [
    "X.head()"
   ]
  },
  {
   "cell_type": "code",
   "execution_count": 68,
   "metadata": {
    "scrolled": false
   },
   "outputs": [],
   "source": [
    "# weather_main feature\n",
    "X['weather_main'] = X['weather_main'].str.lower()\n",
    "print(X['weather_main'].value_counts(dropna=False))"
   ]
  },
  {
   "cell_type": "code",
   "execution_count": 69,
   "metadata": {},
   "outputs": [],
   "source": [
    "# one-hot dummies\n",
    "dummies = pd.get_dummies(X['weather_main'], prefix='wmain')\n",
    "X = X.drop('weather_main',1)\n",
    "X = pd.concat([X, dummies], axis=1)\n",
    "X.head()"
=======
   "execution_count": 13,
   "metadata": {},
   "outputs": [
    {
     "data": {
      "text/plain": [
       "<matplotlib.axes._subplots.AxesSubplot at 0x1239c9190>"
      ]
     },
     "execution_count": 13,
     "metadata": {},
     "output_type": "execute_result"
    },
    {
     "data": {
      "image/png": "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\n",
      "text/plain": [
       "<Figure size 432x288 with 1 Axes>"
      ]
     },
     "metadata": {
      "needs_background": "light"
     },
     "output_type": "display_data"
    }
   ],
   "source": [
    "# distribution of target attribute \"quality\"\n",
    "sns.distplot(metro_wmain['traffic_volume']) # kde=0 if kernel density estimation is not necessary\n",
    "\n",
    "# Scatterplot-Matrix visualises correlation of every possible combination of attributes, \n",
    "# especially the correlation of the input attributes and the target attribute quality is of importance\n",
    "# sns.pairplot(metro_wmain)\n",
    "\n",
    "# heatmap visualises the correlation of each pair of values\n",
    "# sns.heatmap(metro_wmain.corr())"
   ]
  },
  {
   "cell_type": "markdown",
   "metadata": {},
   "source": [
    "#### Modeling:"
>>>>>>> 25185fe90cd8eabfe9b83e50116e2e79f31c6ebc
   ]
  },
  {
   "cell_type": "code",
<<<<<<< HEAD
   "execution_count": 70,
   "metadata": {},
   "outputs": [],
   "source": [
    "# clean up weather_description feature\n",
    "X['weather_description'] = X['weather_description'].str.lower()\n",
    "print(X['weather_description'].value_counts(dropna=False))"
   ]
  },
  {
   "cell_type": "code",
   "execution_count": 71,
   "metadata": {
    "scrolled": true
   },
   "outputs": [],
   "source": [
    "# one-hot dummies\n",
    "# pd.get_dummies(X['weather_description']).head()"
=======
   "execution_count": 14,
   "metadata": {},
   "outputs": [],
   "source": [
    "def linear_reg(dataset):\n",
    "    train, test = train_test_split(dataset, test_size=0.2)\n",
    "    # Training Model\n",
    "    x_train = train.drop('traffic_volume', axis=1)\n",
    "    y_train = train['traffic_volume']\n",
    "\n",
    "    model = LinearRegression()\n",
    "    model.fit(x_train, y_train)\n",
    "\n",
    "    r_sq = model.score(x_train, y_train)\n",
    "\n",
    "    # Testing\n",
    "    x_test = test.drop('traffic_volume', axis=1)\n",
    "    y_test = test['traffic_volume']\n",
    "    y_pred = model.predict(x_test)\n",
    "    return(r_sq, y_test, y_pred)"
>>>>>>> 25185fe90cd8eabfe9b83e50116e2e79f31c6ebc
   ]
  },
  {
   "cell_type": "code",
<<<<<<< HEAD
   "execution_count": 72,
   "metadata": {},
   "outputs": [],
   "source": [
    "# clean up date_time feature --> split to weekday and hour\n",
    "\n",
    "datetime = pd.to_datetime(X['date_time'])\n",
    "X['weekday'] = datetime.dt.dayofweek\n",
    "X['hour'] = datetime.dt.hour\n",
    "X = X.drop('date_time',1)\n",
    "\n",
    "print(X['weekday'].value_counts(dropna=False))\n",
    "print(X['hour'].value_counts(dropna=False))"
=======
   "execution_count": 15,
   "metadata": {},
   "outputs": [],
   "source": [
    "def polynomial_reg(dataset):\n",
    "    train, test = train_test_split(dataset, test_size=0.2)\n",
    "    # Training Model\n",
    "    x_train = train.drop('traffic_volume', axis=1)\n",
    "    y_train = train['traffic_volume']\n",
    "\n",
    "    poly = PolynomialFeatures(degree = 4) \n",
    "    x_poly = poly.fit_transform(x_train)\n",
    "    poly.fit(x_poly, y_train) \n",
    "\n",
    "    model = LinearRegression()\n",
    "    model.fit(x_poly, y_train)\n",
    "\n",
    "    r_sq = model.score(x_train, y_train)\n",
    "\n",
    "    # Testing\n",
    "    x_test = test.drop('traffic_volume', axis=1)\n",
    "    y_test = test['traffic_volume']\n",
    "    y_pred = model.predict(x_test)\n",
    "    return(r_sq, y_test, y_pred)"
>>>>>>> 25185fe90cd8eabfe9b83e50116e2e79f31c6ebc
   ]
  },
  {
   "cell_type": "code",
<<<<<<< HEAD
   "execution_count": 73,
   "metadata": {},
   "outputs": [],
   "source": [
    "X.head()"
=======
   "execution_count": 16,
   "metadata": {},
   "outputs": [],
   "source": [
    "def plot(fig, data, row):\n",
    "    for i, d in enumerate(data):\n",
    "        ax = fig.add_subplot(row,3,i+1)\n",
    "        ax.scatter(d[1], d[2])\n",
    "        ax.set_title(d[0])\n",
    "        ax.set_aspect('equal')\n",
    "        plt.xticks(())\n",
    "        plt.yticks(())"
>>>>>>> 25185fe90cd8eabfe9b83e50116e2e79f31c6ebc
   ]
  },
  {
   "cell_type": "code",
<<<<<<< HEAD
   "execution_count": 15,
   "metadata": {},
   "outputs": [],
   "source": [
    "# Y.value_counts().plot(kind='bar', rot=0)"
=======
   "execution_count": 17,
   "metadata": {},
   "outputs": [
    {
     "name": "stdout",
     "output_type": "stream",
     "text": [
      "linear done\n"
     ]
    },
    {
     "ename": "KeyboardInterrupt",
     "evalue": "",
     "output_type": "error",
     "traceback": [
      "\u001b[0;31m---------------------------------------------------------------------------\u001b[0m",
      "\u001b[0;31mKeyboardInterrupt\u001b[0m                         Traceback (most recent call last)",
      "\u001b[0;32m<ipython-input-17-b59338bb94a3>\u001b[0m in \u001b[0;36m<module>\u001b[0;34m\u001b[0m\n\u001b[1;32m     13\u001b[0m \u001b[0;34m\u001b[0m\u001b[0m\n\u001b[1;32m     14\u001b[0m \u001b[0;31m# polynomial regression\u001b[0m\u001b[0;34m\u001b[0m\u001b[0;34m\u001b[0m\u001b[0;34m\u001b[0m\u001b[0m\n\u001b[0;32m---> 15\u001b[0;31m \u001b[0msq_m\u001b[0m\u001b[0;34m,\u001b[0m \u001b[0my_test_m\u001b[0m\u001b[0;34m,\u001b[0m \u001b[0my_pred_m\u001b[0m \u001b[0;34m=\u001b[0m \u001b[0mpolynomial_reg\u001b[0m\u001b[0;34m(\u001b[0m\u001b[0mmetro_wmain\u001b[0m\u001b[0;34m)\u001b[0m\u001b[0;34m\u001b[0m\u001b[0;34m\u001b[0m\u001b[0m\n\u001b[0m\u001b[1;32m     16\u001b[0m \u001b[0my_m\u001b[0m \u001b[0;34m=\u001b[0m \u001b[0;34m[\u001b[0m\u001b[0mnames\u001b[0m\u001b[0;34m[\u001b[0m\u001b[0;36m0\u001b[0m\u001b[0;34m]\u001b[0m\u001b[0;34m,\u001b[0m \u001b[0my_test_m\u001b[0m\u001b[0;34m,\u001b[0m \u001b[0my_pred_m\u001b[0m\u001b[0;34m]\u001b[0m\u001b[0;34m\u001b[0m\u001b[0;34m\u001b[0m\u001b[0m\n\u001b[1;32m     17\u001b[0m \u001b[0msq_d\u001b[0m\u001b[0;34m,\u001b[0m \u001b[0my_test_d\u001b[0m\u001b[0;34m,\u001b[0m \u001b[0my_pred_d\u001b[0m \u001b[0;34m=\u001b[0m \u001b[0mpolynomial_reg\u001b[0m\u001b[0;34m(\u001b[0m\u001b[0mmetro_wdescr\u001b[0m\u001b[0;34m)\u001b[0m\u001b[0;34m\u001b[0m\u001b[0;34m\u001b[0m\u001b[0m\n",
      "\u001b[0;32m<ipython-input-15-f065001b249f>\u001b[0m in \u001b[0;36mpolynomial_reg\u001b[0;34m(dataset)\u001b[0m\n\u001b[1;32m      7\u001b[0m     \u001b[0mpoly\u001b[0m \u001b[0;34m=\u001b[0m \u001b[0mPolynomialFeatures\u001b[0m\u001b[0;34m(\u001b[0m\u001b[0mdegree\u001b[0m \u001b[0;34m=\u001b[0m \u001b[0;36m4\u001b[0m\u001b[0;34m)\u001b[0m\u001b[0;34m\u001b[0m\u001b[0;34m\u001b[0m\u001b[0m\n\u001b[1;32m      8\u001b[0m     \u001b[0mx_poly\u001b[0m \u001b[0;34m=\u001b[0m \u001b[0mpoly\u001b[0m\u001b[0;34m.\u001b[0m\u001b[0mfit_transform\u001b[0m\u001b[0;34m(\u001b[0m\u001b[0mx_train\u001b[0m\u001b[0;34m)\u001b[0m\u001b[0;34m\u001b[0m\u001b[0;34m\u001b[0m\u001b[0m\n\u001b[0;32m----> 9\u001b[0;31m     \u001b[0mpoly\u001b[0m\u001b[0;34m.\u001b[0m\u001b[0mfit\u001b[0m\u001b[0;34m(\u001b[0m\u001b[0mx_poly\u001b[0m\u001b[0;34m,\u001b[0m \u001b[0my_train\u001b[0m\u001b[0;34m)\u001b[0m\u001b[0;34m\u001b[0m\u001b[0;34m\u001b[0m\u001b[0m\n\u001b[0m\u001b[1;32m     10\u001b[0m \u001b[0;34m\u001b[0m\u001b[0m\n\u001b[1;32m     11\u001b[0m     \u001b[0mmodel\u001b[0m \u001b[0;34m=\u001b[0m \u001b[0mLinearRegression\u001b[0m\u001b[0;34m(\u001b[0m\u001b[0;34m)\u001b[0m\u001b[0;34m\u001b[0m\u001b[0;34m\u001b[0m\u001b[0m\n",
      "\u001b[0;32m/usr/local/lib/python3.7/site-packages/sklearn/preprocessing/_data.py\u001b[0m in \u001b[0;36mfit\u001b[0;34m(self, X, y)\u001b[0m\n\u001b[1;32m   1511\u001b[0m                                           self.include_bias)\n\u001b[1;32m   1512\u001b[0m         \u001b[0mself\u001b[0m\u001b[0;34m.\u001b[0m\u001b[0mn_input_features_\u001b[0m \u001b[0;34m=\u001b[0m \u001b[0mn_features\u001b[0m\u001b[0;34m\u001b[0m\u001b[0;34m\u001b[0m\u001b[0m\n\u001b[0;32m-> 1513\u001b[0;31m         \u001b[0mself\u001b[0m\u001b[0;34m.\u001b[0m\u001b[0mn_output_features_\u001b[0m \u001b[0;34m=\u001b[0m \u001b[0msum\u001b[0m\u001b[0;34m(\u001b[0m\u001b[0;36m1\u001b[0m \u001b[0;32mfor\u001b[0m \u001b[0m_\u001b[0m \u001b[0;32min\u001b[0m \u001b[0mcombinations\u001b[0m\u001b[0;34m)\u001b[0m\u001b[0;34m\u001b[0m\u001b[0;34m\u001b[0m\u001b[0m\n\u001b[0m\u001b[1;32m   1514\u001b[0m         \u001b[0;32mreturn\u001b[0m \u001b[0mself\u001b[0m\u001b[0;34m\u001b[0m\u001b[0;34m\u001b[0m\u001b[0m\n\u001b[1;32m   1515\u001b[0m \u001b[0;34m\u001b[0m\u001b[0m\n",
      "\u001b[0;32m/usr/local/lib/python3.7/site-packages/sklearn/preprocessing/_data.py\u001b[0m in \u001b[0;36m<genexpr>\u001b[0;34m(.0)\u001b[0m\n\u001b[1;32m   1511\u001b[0m                                           self.include_bias)\n\u001b[1;32m   1512\u001b[0m         \u001b[0mself\u001b[0m\u001b[0;34m.\u001b[0m\u001b[0mn_input_features_\u001b[0m \u001b[0;34m=\u001b[0m \u001b[0mn_features\u001b[0m\u001b[0;34m\u001b[0m\u001b[0;34m\u001b[0m\u001b[0m\n\u001b[0;32m-> 1513\u001b[0;31m         \u001b[0mself\u001b[0m\u001b[0;34m.\u001b[0m\u001b[0mn_output_features_\u001b[0m \u001b[0;34m=\u001b[0m \u001b[0msum\u001b[0m\u001b[0;34m(\u001b[0m\u001b[0;36m1\u001b[0m \u001b[0;32mfor\u001b[0m \u001b[0m_\u001b[0m \u001b[0;32min\u001b[0m \u001b[0mcombinations\u001b[0m\u001b[0;34m)\u001b[0m\u001b[0;34m\u001b[0m\u001b[0;34m\u001b[0m\u001b[0m\n\u001b[0m\u001b[1;32m   1514\u001b[0m         \u001b[0;32mreturn\u001b[0m \u001b[0mself\u001b[0m\u001b[0;34m\u001b[0m\u001b[0;34m\u001b[0m\u001b[0m\n\u001b[1;32m   1515\u001b[0m \u001b[0;34m\u001b[0m\u001b[0m\n",
      "\u001b[0;31mKeyboardInterrupt\u001b[0m: "
     ]
    }
   ],
   "source": [
    "names = ['weather_main', 'weather_descr', 'weather_all']\n",
    "\n",
    "# linear regression\n",
    "sq_m, y_test_m, y_pred_m = linear_reg(metro_wmain)\n",
    "y_m = [names[0], y_test_m, y_pred_m]\n",
    "sq_d, y_test_d, y_pred_d = linear_reg(metro_wdescr)\n",
    "y_d = [names[1], y_test_d, y_pred_d]\n",
    "sq_a, y_test_a, y_pred_a = linear_reg(metro_wall)\n",
    "y_a = [names[2], y_test_a, y_pred_a]\n",
    "linear = [y_m, y_d, y_a]\n",
    "\n",
    "print('linear done')\n",
    "\n",
    "# polynomial regression\n",
    "sq_m, y_test_m, y_pred_m = polynomial_reg(metro_wmain)\n",
    "y_m = [names[0], y_test_m, y_pred_m]\n",
    "sq_d, y_test_d, y_pred_d = polynomial_reg(metro_wdescr)\n",
    "y_d = [names[1], y_test_d, y_pred_d]\n",
    "sq_a, y_test_a, y_pred_a = polynomial_reg(metro_wall)\n",
    "y_a = [names[2], y_test_a, y_pred_a]\n",
    "poly = [y_m, y_d, y_a]\n",
    "\n",
    "print('polynomial done')\n",
    "\n",
    "# Plot outputs\n",
    "fig = plt.figure()\n",
    "\n",
    "plot(fig, linear, row=1)\n",
    "plot(fig, poly, row=2)\n",
    "\n",
    "plt.show()"
>>>>>>> 25185fe90cd8eabfe9b83e50116e2e79f31c6ebc
   ]
  },
  {
   "cell_type": "code",
   "execution_count": null,
   "metadata": {},
   "outputs": [],
   "source": []
  }
 ],
 "metadata": {
  "kernelspec": {
   "display_name": "Python 3",
   "language": "python",
   "name": "python3"
<<<<<<< HEAD
  },
  "language_info": {
   "codemirror_mode": {
    "name": "ipython",
    "version": 3
   },
   "file_extension": ".py",
   "mimetype": "text/x-python",
   "name": "python",
   "nbconvert_exporter": "python",
   "pygments_lexer": "ipython3",
   "version": "3.7.7"
=======
>>>>>>> 25185fe90cd8eabfe9b83e50116e2e79f31c6ebc
  }
 },
 "nbformat": 4,
 "nbformat_minor": 2
}
