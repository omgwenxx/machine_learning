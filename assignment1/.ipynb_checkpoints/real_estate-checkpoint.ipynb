{
 "cells": [
  {
<<<<<<< HEAD
=======
   "cell_type": "markdown",
   "metadata": {},
   "source": [
    "### Dataset Visualizations\n",
    "\n",
    "Dataset used: [Real Estate dataset](http://archive.ics.uci.edu/ml/datasets/Real+estate+valuation+data+set)\n",
    "\n",
    "##### Features:\n",
    "* transcation date: the transaction date (for example, 2013.250=2013 March, 2013.500=2013 June, etc.)\n",
    "* house age: the house age (unit: year)\n",
    "* MRT distance: the distance to the nearest MRT station (unit: meter)\n",
    "* number of stores: the number of convenience stores in the living circle on foot (integer)\n",
    "* latitude: the geographic coordinate, latitude. (unit: degree)\n",
    "* longitude: the geographic coordinate, longitude. (unit: degree)\n",
    "\n",
    "The output is as follow\n",
    "* price: house price of unit area (10000 New Taiwan Dollar/Ping, where Ping is a local unit, 1 Ping = 3.3 meter squared)"
   ]
  },
  {
   "cell_type": "code",
   "execution_count": 18,
   "metadata": {},
   "outputs": [],
   "source": [
    "# All imports needed\n",
    "import pandas as pd \n",
    "import numpy as np\n",
    "import matplotlib.pyplot as plt\n",
    "import seaborn as sns\n",
    "from sklearn.model_selection import train_test_split\n",
    "from sklearn.linear_model import LinearRegression"
   ]
  },
  {
   "cell_type": "code",
   "execution_count": 15,
   "metadata": {},
   "outputs": [
    {
     "data": {
      "text/html": [
       "<div>\n",
       "<style scoped>\n",
       "    .dataframe tbody tr th:only-of-type {\n",
       "        vertical-align: middle;\n",
       "    }\n",
       "\n",
       "    .dataframe tbody tr th {\n",
       "        vertical-align: top;\n",
       "    }\n",
       "\n",
       "    .dataframe thead th {\n",
       "        text-align: right;\n",
       "    }\n",
       "</style>\n",
       "<table border=\"1\" class=\"dataframe\">\n",
       "  <thead>\n",
       "    <tr style=\"text-align: right;\">\n",
       "      <th></th>\n",
       "      <th>transaction date</th>\n",
       "      <th>house age</th>\n",
       "      <th>MRT distance</th>\n",
       "      <th>number of stores</th>\n",
       "      <th>latitude</th>\n",
       "      <th>longitude</th>\n",
       "      <th>price</th>\n",
       "    </tr>\n",
       "  </thead>\n",
       "  <tbody>\n",
       "    <tr>\n",
       "      <td>0</td>\n",
       "      <td>2012.917</td>\n",
       "      <td>32.0</td>\n",
       "      <td>84.87882</td>\n",
       "      <td>10</td>\n",
       "      <td>24.98298</td>\n",
       "      <td>121.54024</td>\n",
       "      <td>37.9</td>\n",
       "    </tr>\n",
       "    <tr>\n",
       "      <td>1</td>\n",
       "      <td>2012.917</td>\n",
       "      <td>19.5</td>\n",
       "      <td>306.59470</td>\n",
       "      <td>9</td>\n",
       "      <td>24.98034</td>\n",
       "      <td>121.53951</td>\n",
       "      <td>42.2</td>\n",
       "    </tr>\n",
       "    <tr>\n",
       "      <td>2</td>\n",
       "      <td>2013.583</td>\n",
       "      <td>13.3</td>\n",
       "      <td>561.98450</td>\n",
       "      <td>5</td>\n",
       "      <td>24.98746</td>\n",
       "      <td>121.54391</td>\n",
       "      <td>47.3</td>\n",
       "    </tr>\n",
       "    <tr>\n",
       "      <td>3</td>\n",
       "      <td>2013.500</td>\n",
       "      <td>13.3</td>\n",
       "      <td>561.98450</td>\n",
       "      <td>5</td>\n",
       "      <td>24.98746</td>\n",
       "      <td>121.54391</td>\n",
       "      <td>54.8</td>\n",
       "    </tr>\n",
       "    <tr>\n",
       "      <td>4</td>\n",
       "      <td>2012.833</td>\n",
       "      <td>5.0</td>\n",
       "      <td>390.56840</td>\n",
       "      <td>5</td>\n",
       "      <td>24.97937</td>\n",
       "      <td>121.54245</td>\n",
       "      <td>43.1</td>\n",
       "    </tr>\n",
       "  </tbody>\n",
       "</table>\n",
       "</div>"
      ],
      "text/plain": [
       "   transaction date  house age  MRT distance  number of stores  latitude  \\\n",
       "0          2012.917       32.0      84.87882                10  24.98298   \n",
       "1          2012.917       19.5     306.59470                 9  24.98034   \n",
       "2          2013.583       13.3     561.98450                 5  24.98746   \n",
       "3          2013.500       13.3     561.98450                 5  24.98746   \n",
       "4          2012.833        5.0     390.56840                 5  24.97937   \n",
       "\n",
       "   longitude  price  \n",
       "0  121.54024   37.9  \n",
       "1  121.53951   42.2  \n",
       "2  121.54391   47.3  \n",
       "3  121.54391   54.8  \n",
       "4  121.54245   43.1  "
      ]
     },
     "execution_count": 15,
     "metadata": {},
     "output_type": "execute_result"
    }
   ],
   "source": [
    "# Read data from file\n",
    "file_names = ['transaction date', 'house age', 'MRT distance', 'number of stores', 'latitude', 'longitude', 'price']\n",
    "real_estate = pd.read_csv(\"../data/estate/Real estate valuation data set.csv\", header = 0, names = file_names, usecols = range(1,8)) \n",
    "\n",
    "real_estate.head()"
   ]
  },
  {
>>>>>>> 25185fe90cd8eabfe9b83e50116e2e79f31c6ebc
   "cell_type": "code",
   "execution_count": null,
   "metadata": {},
   "outputs": [],
<<<<<<< HEAD
   "source": [
    "### Dataset Visualizations\n",
    "\n",
    "Dataset used: [Real Estate dataset](https://archive.ics.uci.edu/ml/datasets/Metro+Interstate+Traffic+Volume)\n",
    "\n",
    "##### Features:\n",
    "* holiday: US National Holiday + Minnesota State Holiday\n",
    "* temp: average Temperature in Kelvin\n",
    "* rain_1h: mm or Rain\n",
    "* snow_1h: mm of Snow\n",
    "* clouds_all: percentage of cloud cover\n",
    "* weather_main: short text descr. of weather\n",
    "* weather_description: longer text descr. of weather\n",
    "* date_time: datetime\n",
    "* traffic_volume: westbound Traffic Volume (Ground Truth)"
   ]
=======
   "source": []
  },
  {
   "cell_type": "markdown",
   "metadata": {},
   "source": [
    "#### Modeling:"
   ]
  },
  {
   "cell_type": "code",
   "execution_count": 19,
   "metadata": {},
   "outputs": [
    {
     "data": {
      "image/png": "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\n",
      "text/plain": [
       "<Figure size 432x288 with 1 Axes>"
      ]
     },
     "metadata": {},
     "output_type": "display_data"
    }
   ],
   "source": [
    "train, test = train_test_split(real_estate, test_size=0.2)\n",
    "\n",
    "# Training Model\n",
    "x_train = train.drop('price', axis=1)\n",
    "y_train = train['price']\n",
    "\n",
    "model = LinearRegression()\n",
    "model.fit(x_train, y_train)\n",
    "\n",
    "r_sq = model.score(x_train, y_train)\n",
    "\n",
    "# Testing\n",
    "x_test = test.drop('price', axis=1)\n",
    "y_test = test['price']\n",
    "y_pred = model.predict(x_test)\n",
    "\n",
    "# Plot outputs\n",
    "plt.scatter(y_test, y_pred)\n",
    "\n",
    "plt.xticks(())\n",
    "plt.yticks(())\n",
    "\n",
    "plt.show()"
   ]
  },
  {
   "cell_type": "code",
   "execution_count": null,
   "metadata": {},
   "outputs": [],
   "source": []
>>>>>>> 25185fe90cd8eabfe9b83e50116e2e79f31c6ebc
  }
 ],
 "metadata": {
  "kernelspec": {
   "display_name": "Python 3",
   "language": "python",
   "name": "python3"
  },
  "language_info": {
   "codemirror_mode": {
    "name": "ipython",
    "version": 3
   },
   "file_extension": ".py",
   "mimetype": "text/x-python",
   "name": "python",
   "nbconvert_exporter": "python",
   "pygments_lexer": "ipython3",
<<<<<<< HEAD
   "version": "3.7.4"
=======
   "version": "3.7.7"
>>>>>>> 25185fe90cd8eabfe9b83e50116e2e79f31c6ebc
  }
 },
 "nbformat": 4,
 "nbformat_minor": 2
}
