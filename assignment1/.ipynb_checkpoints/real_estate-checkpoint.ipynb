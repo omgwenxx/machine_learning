{
 "cells": [
  {
   "cell_type": "code",
   "execution_count": null,
   "metadata": {},
   "outputs": [],
   "source": [
    "### Dataset Visualizations\n",
    "\n",
    "Dataset used: [Real Estate dataset](https://archive.ics.uci.edu/ml/datasets/Metro+Interstate+Traffic+Volume)\n",
    "\n",
    "##### Features:\n",
    "* holiday: US National Holiday + Minnesota State Holiday\n",
    "* temp: average Temperature in Kelvin\n",
    "* rain_1h: mm or Rain\n",
    "* snow_1h: mm of Snow\n",
    "* clouds_all: percentage of cloud cover\n",
    "* weather_main: short text descr. of weather\n",
    "* weather_description: longer text descr. of weather\n",
    "* date_time: datetime\n",
    "* traffic_volume: westbound Traffic Volume (Ground Truth)"
   ]
  }
 ],
 "metadata": {
  "kernelspec": {
   "display_name": "Python 3",
   "language": "python",
   "name": "python3"
  },
  "language_info": {
   "codemirror_mode": {
    "name": "ipython",
    "version": 3
   },
   "file_extension": ".py",
   "mimetype": "text/x-python",
   "name": "python",
   "nbconvert_exporter": "python",
   "pygments_lexer": "ipython3",
   "version": "3.7.4"
  }
 },
 "nbformat": 4,
 "nbformat_minor": 2
}
