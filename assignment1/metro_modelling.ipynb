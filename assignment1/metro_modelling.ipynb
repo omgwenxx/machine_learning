{
 "cells": [
  {
   "cell_type": "code",
   "execution_count": 14,
   "metadata": {},
   "outputs": [],
   "source": [
    "# All imports needed\n",
    "import pandas as pd \n",
    "import numpy as np\n",
    "import matplotlib.pyplot as plt\n",
    "import seaborn as sns\n",
    "\n",
    "from sklearn import neighbors\n",
    "from sklearn.model_selection import train_test_split\n",
    "from sklearn.model_selection import GridSearchCV\n",
    "from sklearn.linear_model import LinearRegression\n",
    "from sklearn.linear_model import Ridge\n",
    "from sklearn.linear_model import Lasso\n",
    "\n",
    "from sklearn.tree import DecisionTreeRegressor\n",
    "from sklearn.ensemble import RandomForestRegressor\n",
    "import sklearn.metrics as metrics\n",
    "\n",
    "from sklearn.preprocessing import RobustScaler\n",
    "from sklearn.preprocessing import MinMaxScaler\n",
    "from sklearn.preprocessing import PolynomialFeatures "
   ]
  },
  {
   "cell_type": "markdown",
   "metadata": {},
   "source": [
    "### Dataset Visualizations\n",
    "\n",
    "Dataset used: [Metro dataset](https://archive.ics.uci.edu/ml/datasets/Metro+Interstate+Traffic+Volume)\n",
    "\n",
    "##### Features:\n",
    "* holiday: US National Holiday + Minnesota State Holiday\n",
    "* temp: average Temperature in Kelvin\n",
    "* rain_1h: mm or Rain\n",
    "* snow_1h: mm of Snow\n",
    "* clouds_all: percentage of cloud cover\n",
    "* weather_main: short text descr. of weather\n",
    "* weather_description: longer text descr. of weather\n",
    "* date_time: datetime\n",
    "* traffic_volume: westbound Traffic Volume (Ground Truth)"
   ]
  },
  {
   "cell_type": "code",
   "execution_count": 15,
   "metadata": {},
   "outputs": [],
   "source": [
    "# Read data from file\n",
    "df = pd.read_csv(\"../data/metro/metro.csv\") \n",
    "original_data = df.copy()"
   ]
  },
  {
   "cell_type": "markdown",
   "metadata": {},
   "source": [
    "#### Modeling:"
   ]
  },
  {
   "cell_type": "code",
   "execution_count": 16,
   "metadata": {},
   "outputs": [],
   "source": [
    "def polynomial_regression(X_train, X_test, y_train, degree = 2):\n",
    "    poly = PolynomialFeatures(degree)\n",
    "    x_poly = poly.fit_transform(X_train)\n",
    "    \n",
    "    model = LinearRegression()\n",
    "    model.fit(x_poly, y_train)\n",
    "    \n",
    "    y_pred = model.predict(poly.fit_transform(X_test))\n",
    "    return y_pred\n",
    "\n",
    "def plot_scatter(y_test, y_pred):\n",
    "    # Plot outputs\n",
    "    plt.scatter(y_test, y_pred)\n",
    "\n",
    "    plt.xticks(())\n",
    "    plt.yticks(())\n",
    "\n",
    "    plt.show()\n",
    "    \n",
    "def print_performance(y_test, y_pred):\n",
    "    # Mean Squared Error\n",
    "    print(\"MSE: \", metrics.mean_squared_error(y_test,y_pred))\n",
    "    \n",
    "    print(\"RMSE: \", metrics.mean_squared_error(y_test,y_pred, squared=False))\n",
    "    \n",
    "    # R2 is between 0 and 100 percent\n",
    "    # 0 indicates that the model explains none of the variability of the response data around its mean.\n",
    "    # 100 indicates that the model explains all the variability of the response data around its mean.\n",
    "    print(\"R2: \", metrics.r2_score(y_test,y_pred) * 100)"
   ]
  },
  {
   "cell_type": "code",
   "execution_count": 17,
   "metadata": {},
   "outputs": [],
   "source": [
    "# setting parameters for testing\n",
    "# regression models\n",
    "alpha = [0.1,0.9,1,2,4]\n",
    "normalize = [True, False]\n",
    "degrees = [2,3]\n",
    "\n",
    "# knn\n",
    "n_neighbour = [2, 5, 8, 12] \n",
    "weights = ['uniform', 'distance']\n",
    "\n",
    "# trees\n",
    "tree_max_depth = [6, 9, 12, 15]\n",
    "tree_min_split = [3, 6, 9, 12]\n",
    "forest_n_estimators = [10, 50, 75]\n",
    "forest_max_depth = [6, 9, 12, 15, 20]\n",
    "forest_min_split = [2, 5] "
   ]
  },
  {
   "cell_type": "markdown",
   "metadata": {},
   "source": [
    "#### Linear Models:"
   ]
  },
  {
   "cell_type": "code",
   "execution_count": 35,
   "metadata": {},
   "outputs": [
    {
     "name": "stdout",
     "output_type": "stream",
     "text": [
      "Linear Regression\n",
      "MSE:  3278265.9949783664\n",
      "RMSE:  1810.5982422885443\n",
      "R2:  15.813854470960287\n"
     ]
    },
    {
     "data": {
      "text/plain": [
       "<matplotlib.collections.PathCollection at 0x116ebf350>"
      ]
     },
     "execution_count": 35,
     "metadata": {},
     "output_type": "execute_result"
    },
    {
     "data": {
      "image/png": "[encoded data removed]",
      "text/plain": [
       "<Figure size 432x288 with 1 Axes>"
      ]
     },
     "metadata": {
      "needs_background": "light"
     },
     "output_type": "display_data"
    }
   ],
   "source": [
    "X_train, X_test, y_train, y_test = train_test_split(df.drop('traffic_volume', axis=1),df['traffic_volume'], test_size=0.2, random_state=44)\n",
    "\n",
    "# preprocessing with scaler\n",
    "# scaler = RobustScaler()\n",
    "scaler = MinMaxScaler()\n",
    "X_train = scaler.fit_transform(X_train)\n",
    "X_test = scaler.transform(X_test)\n",
    "\n",
    "# Linear Regression\n",
    "print('Linear Regression')\n",
    "model = LinearRegression()\n",
    "model.fit(X_train, y_train)\n",
    "\n",
    "y_pred = model.predict(X_test)\n",
    "print_performance(y_test, y_pred)\n",
    "\n",
    "# Lasso Regression\n",
    "print('\\nLasso Regression')\n",
    "grid = GridSearchCV(estimator=Lasso(),\n",
    "             param_grid={'alpha': alpha,\n",
    "                        'normalize':normalize})\n",
    "# grid.fit(X_train, y_train)\n",
    "print(grid.best_params_)\n",
    "y_pred = grid.predict(X_test)\n",
    "print_performance(y_test, y_pred)\n",
    "\n",
    "# Ridge Regression\n",
    "print('\\nRidge Regression')\n",
    "grid = GridSearchCV(estimator=Ridge(),\n",
    "             param_grid={'alpha': alpha,\n",
    "                        'normalize':normalize})\n",
    "grid.fit(X_train, y_train)\n",
    "print(grid.best_params_)\n",
    "y_pred = grid.predict(X_test)\n",
    "print_performance(y_test, y_pred)\n",
    "\n",
    "# Polynomial Regression\n",
    "print('\\nPolynomial Regression Degree 2')\n",
    "y_pred2 = polynomial_regression(X_train, X_test, y_train)\n",
    "print_performance(y_test, y_pred2)\n",
    "print('\\nPolynomial Regression Degree 3')\n",
    "y_pred3 = polynomial_regression(X_train, X_test, y_train, 3)\n",
    "print_performance(y_test, y_pred3)"
   ]
  },
  {
   "cell_type": "markdown",
   "metadata": {},
   "source": [
    "#### Non-parametric Model:"
   ]
  },
  {
   "cell_type": "code",
   "execution_count": 19,
   "metadata": {},
   "outputs": [
    {
     "name": "stdout",
     "output_type": "stream",
     "text": [
      "KNN\n",
      "{'n_neighbors': 12, 'weights': 'distance'}\n",
      "MSE:  253288.11300433025\n",
      "RMSE:  503.27737183816464\n",
      "R2:  93.49554002792286\n"
     ]
    }
   ],
   "source": [
    "# knn regression\n",
    "print('KNN')\n",
    "grid = GridSearchCV(estimator=neighbors.KNeighborsRegressor(),\n",
    "             param_grid={'n_neighbors': n_neighbour,\n",
    "                        'weights': weights})\n",
    "grid.fit(X_train, y_train)\n",
    "print(grid.best_params_)\n",
    "y_pred = grid.predict(X_test)\n",
    "print_performance(y_test, y_pred)"
   ]
  },
  {
   "cell_type": "markdown",
   "metadata": {},
   "source": [
    "#### Tree Models:"
   ]
  },
  {
   "cell_type": "code",
   "execution_count": 20,
   "metadata": {},
   "outputs": [
    {
     "name": "stdout",
     "output_type": "stream",
     "text": [
      "Regression Tree\n",
      "{'max_depth': 12, 'min_samples_leaf': 12}\n",
      "MSE:  267426.4972364605\n",
      "RMSE:  517.132958953943\n",
      "R2:  93.13246513578939\n",
      "\n",
      "Random Forest\n",
      "{'max_depth': 15, 'min_samples_leaf': 2, 'n_estimators': 75}\n",
      "MSE:  234642.6626522397\n",
      "RMSE:  484.3992801937671\n",
      "R2:  93.9743567557906\n"
     ]
    }
   ],
   "source": [
    "# regression tree\n",
    "print('Regression Tree')\n",
    "grid = GridSearchCV(estimator=DecisionTreeRegressor(),\n",
    "             param_grid={'max_depth': tree_max_depth,\n",
    "                        'min_samples_leaf': tree_min_split})\n",
    "grid.fit(X_train, y_train)\n",
    "print(grid.best_params_)\n",
    "y_pred = grid.predict(X_test)\n",
    "print_performance(y_test, y_pred)\n",
    "\n",
    "# random forest\n",
    "print('\\nRandom Forest')\n",
    "grid = GridSearchCV(estimator=RandomForestRegressor(),\n",
    "             param_grid={'n_estimators': forest_n_estimators,\n",
    "                         'max_depth': forest_max_depth,\n",
    "                         'min_samples_leaf': forest_min_split})\n",
    "grid.fit(X_train, y_train)\n",
    "print(grid.best_params_)\n",
    "y_pred = grid.predict(X_test)\n",
    "print_performance(y_test, y_pred)"
   ]
  },
  {
   "cell_type": "code",
   "execution_count": 33,
   "metadata": {},
   "outputs": [
    {
     "data": {
      "text/plain": [
       "<matplotlib.collections.PathCollection at 0x120e38190>"
      ]
     },
     "execution_count": 33,
     "metadata": {},
     "output_type": "execute_result"
    },
    {
     "data": {
      "image/png": "[encoded data removed]",
      "text/plain": [
       "<Figure size 432x288 with 1 Axes>"
      ]
     },
     "metadata": {
      "needs_background": "light"
     },
     "output_type": "display_data"
    }
   ],
   "source": [
    "df['traffic_volume'].max()\n",
    "plt.scatter(y_test, y_pred)"
   ]
  }
 ],
 "metadata": {
  "kernelspec": {
   "display_name": "Python 3",
   "language": "python",
   "name": "python3"
  },
  "language_info": {
   "codemirror_mode": {
    "name": "ipython",
    "version": 3
   },
   "file_extension": ".py",
   "mimetype": "text/x-python",
   "name": "python",
   "nbconvert_exporter": "python",
   "pygments_lexer": "ipython3",
   "version": "3.7.7"
  }
 },
 "nbformat": 4,
 "nbformat_minor": 2
}
