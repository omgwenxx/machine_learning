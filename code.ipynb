{
  "cells": [
    {
      "cell_type": "markdown",
      "metadata": {
        "pycharm": {}
      },
      "source": [
        "### Dataset Visualizations\n",
        "\n",
        "Datasets used:\n",
        "* [Wine quality dataset](https://archive.ics.uci.edu/ml/datasets/Wine+Quality)\n",
        "* [Speeddating dataset](https://www.openml.org/d/40536)"
      ]
    },
    {
      "cell_type": "code",
      "execution_count": 44,
      "metadata": {
        "pycharm": {}
      },
      "outputs": [],
      "source": [
        "# All imports needed\n",
        "import pandas as pd \n",
        "import numpy as np\n",
        "import matplotlib.pyplot as plt\n",
        "import seaborn as sns"
      ]
    },
    {
      "cell_type": "code",
      "execution_count": 33,
      "metadata": {
        "pycharm": {}
      },
      "outputs": [
        {
          "data": {
            "text/plain": [
              "(8378, 123)"
            ]
          },
          "execution_count": 33,
          "metadata": {},
          "output_type": "execute_result"
        }
      ],
      "source": [
        "# Read data from file\n",
        "speeddating \u003d pd.read_csv(\"data/speeddating/speeddating.csv\") \n",
        "white_wine \u003d pd.read_csv(\"data/wine/winequality-white.csv\", sep\u003d\u0027;\u0027) \n",
        "red_wine \u003d pd.read_csv(\"data/wine/winequality-red.csv\", sep\u003d\u0027;\u0027) \n",
        "wine \u003d pd.concat([red_wine,white_wine])\n",
        "\n",
        "# showing first 5 rows of dataset\n",
        "pd.set_option(\u0027display.max_columns\u0027, 500)\n",
        "speeddating.shape"
      ]
    },
    {
      "cell_type": "markdown",
      "metadata": {
        "pycharm": {}
      },
      "source": [
        "Showing missing values in Speeddating dataset"
      ]
    },
    {
      "cell_type": "code",
      "execution_count": null,
      "metadata": {
        "pycharm": {}
      },
      "outputs": [],
      "source": "speeddating \u003d speeddating.replace(\"?\", np.nan)\n\n# all rows with nan values, 7330 in total\nnull_speeddating \u003d speeddating[speeddating.isnull().values.any(axis\u003d1)]\n\n# how many values missing per column, only if \u003e 0\nvalues_missing \u003d speeddating.isna().sum()\nvalues_missing[values_missing \u003e 0]\n\n# percentage for each column\npercent_missing \u003d speeddating.isnull().sum() * 100 / len(speeddating)\npercent_missing[percent_missing \u003e 0]\n\n# how many values missing in total, 18372\nspeeddating.isnull().sum().sum()\n\n# visualize as heatmap, missing values are white\nfig, ax \u003d plt.subplots(figsize\u003d(20,20)) \ncmap \u003d sns.cm.rocket_r\nsns.heatmap(speeddating.isnull(), cbar\u003dFalse, ax\u003dax, cmap\u003dcmap)\nplt.savefig(\u0027heatmap_missing_values.png\u0027)\n"
    },
    {
      "cell_type": "code",
      "execution_count": null,
      "outputs": [],
      "source": "speeddating[\u0027match\u0027].astype(\u0027bool\u0027).value_counts().plot(kind\u003d\u0027bar\u0027, rot\u003d0)\nplt.savefig(\u0027distribution.png\u0027)\n",
      "metadata": {
        "pycharm": {
          "metadata": false,
          "name": "#%%\n"
        }
      }
    },
    {
      "cell_type": "markdown",
      "metadata": {
        "pycharm": {}
      },
      "source": "Showing that the wine quality dataset has no missing values."
    },
    {
      "cell_type": "code",
      "execution_count": 43,
      "metadata": {
        "pycharm": {}
      },
      "outputs": [
        {
          "data": {
            "text/plain": [
              "(0, 12)"
            ]
          },
          "execution_count": 43,
          "metadata": {},
          "output_type": "execute_result"
        }
      ],
      "source": [
        "# all rows with nan values, 0 in total\n",
        "null_wine \u003d wine[wine.isnull().values.any(axis\u003d1)]\n",
        "null_wine.shape"
      ]
    },
    {
      "cell_type": "code",
      "execution_count": null,
      "metadata": {
        "pycharm": {}
      },
      "outputs": [],
      "source": []
    }
  ],
  "metadata": {
    "kernelspec": {
      "display_name": "Python 3",
      "language": "python",
      "name": "python3"
    },
    "language_info": {
      "codemirror_mode": {
        "name": "ipython",
        "version": 3
      },
      "file_extension": ".py",
      "mimetype": "text/x-python",
      "name": "python",
      "nbconvert_exporter": "python",
      "pygments_lexer": "ipython3",
      "version": "3.7.4"
    }
  },
  "nbformat": 4,
  "nbformat_minor": 2
}