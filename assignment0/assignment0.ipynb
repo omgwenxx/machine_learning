{
 "cells": [
  {
   "cell_type": "markdown",
   "metadata": {
    "pycharm": {}
   },
   "source": [
    "### Dataset Visualizations\n",
    "\n",
    "Datasets used:\n",
    "* [Wine quality dataset](https://archive.ics.uci.edu/ml/datasets/Wine+Quality)\n",
    "* [Speeddating dataset](https://www.openml.org/d/40536)"
   ]
  },
  {
   "cell_type": "code",
   "execution_count": 44,
   "metadata": {
    "pycharm": {}
   },
   "outputs": [],
   "source": [
    "# All imports needed\n",
    "import pandas as pd \n",
    "import numpy as np\n",
    "import matplotlib.pyplot as plt\n",
    "import seaborn as sns"
   ]
  },
  {
   "cell_type": "code",
   "execution_count": 33,
   "metadata": {
    "pycharm": {
     "name": "#%%\n"
    }
   },
   "outputs": [
    {
     "data": {
      "text/plain": [
       "(8378, 123)"
      ]
     },
     "execution_count": 33,
     "metadata": {},
     "output_type": "execute_result"
    }
   ],
   "source": [
    "# Read data from file\n",
    "speeddating = pd.read_csv(\"data/speeddating/speeddating.csv\") \n",
    "white_wine = pd.read_csv(\"data/wine/winequality-white.csv\", sep=';') \n",
    "red_wine = pd.read_csv(\"data/wine/winequality-red.csv\", sep=';') \n",
    "wine = pd.concat([red_wine,white_wine])\n",
    "\n",
    "# showing first 5 rows of dataset\n",
    "pd.set_option('display.max_columns', 500)\n",
    "speeddating.shape"
   ]
  },
  {
   "cell_type": "markdown",
   "metadata": {
    "pycharm": {}
   },
   "source": [
    "Showing missing values in Speeddating dataset"
   ]
  },
  {
   "cell_type": "code",
   "execution_count": null,
   "metadata": {
    "pycharm": {}
   },
   "outputs": [],
   "source": [
    "speeddating = speeddating.replace(\"?\", np.nan)\n",
    "\n",
    "# all rows with nan values, 7330 in total\n",
    "null_speeddating = speeddating[speeddating.isnull().values.any(axis=1)]\n",
    "\n",
    "# how many values missing per column, only if > 0\n",
    "values_missing = speeddating.isna().sum()\n",
    "values_missing[values_missing > 0]\n",
    "\n",
    "# percentage for each column\n",
    "percent_missing = speeddating.isnull().sum() * 100 / len(speeddating)\n",
    "percent_missing[percent_missing > 0]\n",
    "\n",
    "# how many values missing in total, 18372\n",
    "speeddating.isnull().sum().sum()\n",
    "\n",
    "# visualize as heatmap, missing values are white\n",
    "fig, ax = plt.subplots(figsize=(20,20)) \n",
    "cmap = sns.cm.rocket_r\n",
    "sns.heatmap(speeddating.isnull(), cbar=False, ax=ax, cmap=cmap)\n",
    "# plt.savefig('heatmap_missing_values.png')"
   ]
  },
  {
   "cell_type": "code",
   "execution_count": null,
   "metadata": {
    "pycharm": {
     "metadata": false,
     "name": "#%%\n"
    }
   },
   "outputs": [],
   "source": [
    "# distribution of target attribute \"match\"\n",
    "speeddating['match'].astype('bool').value_counts().plot(kind='bar', rot=0)\n",
    "# plt.savefig('distribution.png')"
   ]
  },
  {
   "cell_type": "markdown",
   "metadata": {
    "pycharm": {}
   },
   "source": [
    "Showing that the wine quality dataset has no missing values."
   ]
  },
  {
   "cell_type": "code",
   "execution_count": null,
   "metadata": {},
   "outputs": [],
   "source": [
    "wine.shape # tuple representing the dimensionality of the DataFrame"
   ]
  },
  {
   "cell_type": "code",
   "execution_count": 43,
   "metadata": {
    "pycharm": {}
   },
   "outputs": [
    {
     "data": {
      "text/plain": [
       "(0, 12)"
      ]
     },
     "execution_count": 43,
     "metadata": {},
     "output_type": "execute_result"
    }
   ],
   "source": [
    "# all rows with nan values, 0 in total\n",
    "null_wine = wine[wine.isnull().values.any(axis=1)]\n",
    "null_wine.shape"
   ]
  },
  {
   "cell_type": "code",
   "execution_count": null,
   "metadata": {},
   "outputs": [],
   "source": [
    "# distribution of target attribute \"quality\"\n",
    "sns.distplot(wine.quality) # kde=0 if kernel density estimation is not necessary"
   ]
  },
  {
   "cell_type": "code",
   "execution_count": null,
   "metadata": {},
   "outputs": [],
   "source": [
    "# Scatterplot-Matrix visualises correlation of every possible combination of attributes, \n",
    "# especially the correlation of the input attributes and the target attribute quality is of importance\n",
    "# sns.pairplot(wine)\n",
    "\n",
    "# heatmap visualises the correlation of each pair of values\n",
    "sns.heatmap(wine.corr())"
   ]
  },
  {
   "cell_type": "code",
   "execution_count": null,
   "metadata": {
    "pycharm": {}
   },
   "outputs": [],
   "source": []
  }
 ],
 "metadata": {
  "kernelspec": {
   "display_name": "Python 3",
   "language": "python",
   "name": "python3"
  },
  "language_info": {
   "codemirror_mode": {
    "name": "ipython",
    "version": 3
   },
   "file_extension": ".py",
   "mimetype": "text/x-python",
   "name": "python",
   "nbconvert_exporter": "python",
   "pygments_lexer": "ipython3",
   "version": "3.7.6"
  }
 },
 "nbformat": 4,
 "nbformat_minor": 2
}
